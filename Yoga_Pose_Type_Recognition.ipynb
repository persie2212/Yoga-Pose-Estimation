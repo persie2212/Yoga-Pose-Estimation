{
  "nbformat": 4,
  "nbformat_minor": 0,
  "metadata": {
    "kernelspec": {
      "display_name": "Python 3",
      "language": "python",
      "name": "python3"
    },
    "language_info": {
      "codemirror_mode": {
        "name": "ipython",
        "version": 3
      },
      "file_extension": ".py",
      "mimetype": "text/x-python",
      "name": "python",
      "nbconvert_exporter": "python",
      "pygments_lexer": "ipython3",
      "version": "3.6.9"
    },
    "colab": {
      "name": "Yoga Pose Type Recognition.ipynb",
      "provenance": [],
      "include_colab_link": true
    },
    "widgets": {
      "application/vnd.jupyter.widget-state+json": {
        "b24afb3e4cb4424fbf5caa667b1b47a7": {
          "model_module": "@jupyter-widgets/controls",
          "model_name": "HBoxModel",
          "state": {
            "_view_name": "HBoxView",
            "_dom_classes": [],
            "_model_name": "HBoxModel",
            "_view_module": "@jupyter-widgets/controls",
            "_model_module_version": "1.5.0",
            "_view_count": null,
            "_view_module_version": "1.5.0",
            "box_style": "",
            "layout": "IPY_MODEL_20b969bce2d94c369e5314b6ffce5808",
            "_model_module": "@jupyter-widgets/controls",
            "children": [
              "IPY_MODEL_ac19a970ee33426cb9027e6d5d1fb78a",
              "IPY_MODEL_ecc08e192386405ca4090a030e04e007"
            ]
          }
        },
        "20b969bce2d94c369e5314b6ffce5808": {
          "model_module": "@jupyter-widgets/base",
          "model_name": "LayoutModel",
          "state": {
            "_view_name": "LayoutView",
            "grid_template_rows": null,
            "right": null,
            "justify_content": null,
            "_view_module": "@jupyter-widgets/base",
            "overflow": null,
            "_model_module_version": "1.2.0",
            "_view_count": null,
            "flex_flow": null,
            "width": null,
            "min_width": null,
            "border": null,
            "align_items": null,
            "bottom": null,
            "_model_module": "@jupyter-widgets/base",
            "top": null,
            "grid_column": null,
            "overflow_y": null,
            "overflow_x": null,
            "grid_auto_flow": null,
            "grid_area": null,
            "grid_template_columns": null,
            "flex": null,
            "_model_name": "LayoutModel",
            "justify_items": null,
            "grid_row": null,
            "max_height": null,
            "align_content": null,
            "visibility": null,
            "align_self": null,
            "height": null,
            "min_height": null,
            "padding": null,
            "grid_auto_rows": null,
            "grid_gap": null,
            "max_width": null,
            "order": null,
            "_view_module_version": "1.2.0",
            "grid_template_areas": null,
            "object_position": null,
            "object_fit": null,
            "grid_auto_columns": null,
            "margin": null,
            "display": null,
            "left": null
          }
        },
        "ac19a970ee33426cb9027e6d5d1fb78a": {
          "model_module": "@jupyter-widgets/controls",
          "model_name": "FloatProgressModel",
          "state": {
            "_view_name": "ProgressView",
            "style": "IPY_MODEL_12fddb7c10b9425692af6dfcb3eab945",
            "_dom_classes": [],
            "description": "  0%",
            "_model_name": "FloatProgressModel",
            "bar_style": "danger",
            "max": 83,
            "_view_module": "@jupyter-widgets/controls",
            "_model_module_version": "1.5.0",
            "value": 0,
            "_view_count": null,
            "_view_module_version": "1.5.0",
            "orientation": "horizontal",
            "min": 0,
            "description_tooltip": null,
            "_model_module": "@jupyter-widgets/controls",
            "layout": "IPY_MODEL_d1ceebdb25ca4fb68660c0e7e1d43ba6"
          }
        },
        "ecc08e192386405ca4090a030e04e007": {
          "model_module": "@jupyter-widgets/controls",
          "model_name": "HTMLModel",
          "state": {
            "_view_name": "HTMLView",
            "style": "IPY_MODEL_778f671a8c8a44c18b33d4f7c0cfdd7d",
            "_dom_classes": [],
            "description": "",
            "_model_name": "HTMLModel",
            "placeholder": "​",
            "_view_module": "@jupyter-widgets/controls",
            "_model_module_version": "1.5.0",
            "value": " 0/83 [00:00&lt;?, ?it/s]",
            "_view_count": null,
            "_view_module_version": "1.5.0",
            "description_tooltip": null,
            "_model_module": "@jupyter-widgets/controls",
            "layout": "IPY_MODEL_2738e180e5e0406f8bc1926cee93b1ef"
          }
        },
        "12fddb7c10b9425692af6dfcb3eab945": {
          "model_module": "@jupyter-widgets/controls",
          "model_name": "ProgressStyleModel",
          "state": {
            "_view_name": "StyleView",
            "_model_name": "ProgressStyleModel",
            "description_width": "initial",
            "_view_module": "@jupyter-widgets/base",
            "_model_module_version": "1.5.0",
            "_view_count": null,
            "_view_module_version": "1.2.0",
            "bar_color": null,
            "_model_module": "@jupyter-widgets/controls"
          }
        },
        "d1ceebdb25ca4fb68660c0e7e1d43ba6": {
          "model_module": "@jupyter-widgets/base",
          "model_name": "LayoutModel",
          "state": {
            "_view_name": "LayoutView",
            "grid_template_rows": null,
            "right": null,
            "justify_content": null,
            "_view_module": "@jupyter-widgets/base",
            "overflow": null,
            "_model_module_version": "1.2.0",
            "_view_count": null,
            "flex_flow": null,
            "width": null,
            "min_width": null,
            "border": null,
            "align_items": null,
            "bottom": null,
            "_model_module": "@jupyter-widgets/base",
            "top": null,
            "grid_column": null,
            "overflow_y": null,
            "overflow_x": null,
            "grid_auto_flow": null,
            "grid_area": null,
            "grid_template_columns": null,
            "flex": null,
            "_model_name": "LayoutModel",
            "justify_items": null,
            "grid_row": null,
            "max_height": null,
            "align_content": null,
            "visibility": null,
            "align_self": null,
            "height": null,
            "min_height": null,
            "padding": null,
            "grid_auto_rows": null,
            "grid_gap": null,
            "max_width": null,
            "order": null,
            "_view_module_version": "1.2.0",
            "grid_template_areas": null,
            "object_position": null,
            "object_fit": null,
            "grid_auto_columns": null,
            "margin": null,
            "display": null,
            "left": null
          }
        },
        "778f671a8c8a44c18b33d4f7c0cfdd7d": {
          "model_module": "@jupyter-widgets/controls",
          "model_name": "DescriptionStyleModel",
          "state": {
            "_view_name": "StyleView",
            "_model_name": "DescriptionStyleModel",
            "description_width": "",
            "_view_module": "@jupyter-widgets/base",
            "_model_module_version": "1.5.0",
            "_view_count": null,
            "_view_module_version": "1.2.0",
            "_model_module": "@jupyter-widgets/controls"
          }
        },
        "2738e180e5e0406f8bc1926cee93b1ef": {
          "model_module": "@jupyter-widgets/base",
          "model_name": "LayoutModel",
          "state": {
            "_view_name": "LayoutView",
            "grid_template_rows": null,
            "right": null,
            "justify_content": null,
            "_view_module": "@jupyter-widgets/base",
            "overflow": null,
            "_model_module_version": "1.2.0",
            "_view_count": null,
            "flex_flow": null,
            "width": null,
            "min_width": null,
            "border": null,
            "align_items": null,
            "bottom": null,
            "_model_module": "@jupyter-widgets/base",
            "top": null,
            "grid_column": null,
            "overflow_y": null,
            "overflow_x": null,
            "grid_auto_flow": null,
            "grid_area": null,
            "grid_template_columns": null,
            "flex": null,
            "_model_name": "LayoutModel",
            "justify_items": null,
            "grid_row": null,
            "max_height": null,
            "align_content": null,
            "visibility": null,
            "align_self": null,
            "height": null,
            "min_height": null,
            "padding": null,
            "grid_auto_rows": null,
            "grid_gap": null,
            "max_width": null,
            "order": null,
            "_view_module_version": "1.2.0",
            "grid_template_areas": null,
            "object_position": null,
            "object_fit": null,
            "grid_auto_columns": null,
            "margin": null,
            "display": null,
            "left": null
          }
        },
        "56285f939746436eb03b24a9b34fa10a": {
          "model_module": "@jupyter-widgets/controls",
          "model_name": "HBoxModel",
          "state": {
            "_view_name": "HBoxView",
            "_dom_classes": [],
            "_model_name": "HBoxModel",
            "_view_module": "@jupyter-widgets/controls",
            "_model_module_version": "1.5.0",
            "_view_count": null,
            "_view_module_version": "1.5.0",
            "box_style": "",
            "layout": "IPY_MODEL_1deb154235b146bc84592926df1e6c53",
            "_model_module": "@jupyter-widgets/controls",
            "children": [
              "IPY_MODEL_28aff43bc10b42d6bab8949dbe0510ad",
              "IPY_MODEL_5f423dfecbf44130bbc2dd7689b8f318"
            ]
          }
        },
        "1deb154235b146bc84592926df1e6c53": {
          "model_module": "@jupyter-widgets/base",
          "model_name": "LayoutModel",
          "state": {
            "_view_name": "LayoutView",
            "grid_template_rows": null,
            "right": null,
            "justify_content": null,
            "_view_module": "@jupyter-widgets/base",
            "overflow": null,
            "_model_module_version": "1.2.0",
            "_view_count": null,
            "flex_flow": null,
            "width": null,
            "min_width": null,
            "border": null,
            "align_items": null,
            "bottom": null,
            "_model_module": "@jupyter-widgets/base",
            "top": null,
            "grid_column": null,
            "overflow_y": null,
            "overflow_x": null,
            "grid_auto_flow": null,
            "grid_area": null,
            "grid_template_columns": null,
            "flex": null,
            "_model_name": "LayoutModel",
            "justify_items": null,
            "grid_row": null,
            "max_height": null,
            "align_content": null,
            "visibility": null,
            "align_self": null,
            "height": null,
            "min_height": null,
            "padding": null,
            "grid_auto_rows": null,
            "grid_gap": null,
            "max_width": null,
            "order": null,
            "_view_module_version": "1.2.0",
            "grid_template_areas": null,
            "object_position": null,
            "object_fit": null,
            "grid_auto_columns": null,
            "margin": null,
            "display": null,
            "left": null
          }
        },
        "28aff43bc10b42d6bab8949dbe0510ad": {
          "model_module": "@jupyter-widgets/controls",
          "model_name": "FloatProgressModel",
          "state": {
            "_view_name": "ProgressView",
            "style": "IPY_MODEL_77e1e9492c3344b4946056f50bb77386",
            "_dom_classes": [],
            "description": "  0%",
            "_model_name": "FloatProgressModel",
            "bar_style": "danger",
            "max": 5,
            "_view_module": "@jupyter-widgets/controls",
            "_model_module_version": "1.5.0",
            "value": 0,
            "_view_count": null,
            "_view_module_version": "1.5.0",
            "orientation": "horizontal",
            "min": 0,
            "description_tooltip": null,
            "_model_module": "@jupyter-widgets/controls",
            "layout": "IPY_MODEL_c728206386304e0ab5d4a3ca1668c212"
          }
        },
        "5f423dfecbf44130bbc2dd7689b8f318": {
          "model_module": "@jupyter-widgets/controls",
          "model_name": "HTMLModel",
          "state": {
            "_view_name": "HTMLView",
            "style": "IPY_MODEL_516a95b621364ba785cdcbfc28300195",
            "_dom_classes": [],
            "description": "",
            "_model_name": "HTMLModel",
            "placeholder": "​",
            "_view_module": "@jupyter-widgets/controls",
            "_model_module_version": "1.5.0",
            "value": " 0/5 [00:00&lt;?, ?it/s]",
            "_view_count": null,
            "_view_module_version": "1.5.0",
            "description_tooltip": null,
            "_model_module": "@jupyter-widgets/controls",
            "layout": "IPY_MODEL_8d2470d564374d4b8e663cc43d47e5af"
          }
        },
        "77e1e9492c3344b4946056f50bb77386": {
          "model_module": "@jupyter-widgets/controls",
          "model_name": "ProgressStyleModel",
          "state": {
            "_view_name": "StyleView",
            "_model_name": "ProgressStyleModel",
            "description_width": "initial",
            "_view_module": "@jupyter-widgets/base",
            "_model_module_version": "1.5.0",
            "_view_count": null,
            "_view_module_version": "1.2.0",
            "bar_color": null,
            "_model_module": "@jupyter-widgets/controls"
          }
        },
        "c728206386304e0ab5d4a3ca1668c212": {
          "model_module": "@jupyter-widgets/base",
          "model_name": "LayoutModel",
          "state": {
            "_view_name": "LayoutView",
            "grid_template_rows": null,
            "right": null,
            "justify_content": null,
            "_view_module": "@jupyter-widgets/base",
            "overflow": null,
            "_model_module_version": "1.2.0",
            "_view_count": null,
            "flex_flow": null,
            "width": null,
            "min_width": null,
            "border": null,
            "align_items": null,
            "bottom": null,
            "_model_module": "@jupyter-widgets/base",
            "top": null,
            "grid_column": null,
            "overflow_y": null,
            "overflow_x": null,
            "grid_auto_flow": null,
            "grid_area": null,
            "grid_template_columns": null,
            "flex": null,
            "_model_name": "LayoutModel",
            "justify_items": null,
            "grid_row": null,
            "max_height": null,
            "align_content": null,
            "visibility": null,
            "align_self": null,
            "height": null,
            "min_height": null,
            "padding": null,
            "grid_auto_rows": null,
            "grid_gap": null,
            "max_width": null,
            "order": null,
            "_view_module_version": "1.2.0",
            "grid_template_areas": null,
            "object_position": null,
            "object_fit": null,
            "grid_auto_columns": null,
            "margin": null,
            "display": null,
            "left": null
          }
        },
        "516a95b621364ba785cdcbfc28300195": {
          "model_module": "@jupyter-widgets/controls",
          "model_name": "DescriptionStyleModel",
          "state": {
            "_view_name": "StyleView",
            "_model_name": "DescriptionStyleModel",
            "description_width": "",
            "_view_module": "@jupyter-widgets/base",
            "_model_module_version": "1.5.0",
            "_view_count": null,
            "_view_module_version": "1.2.0",
            "_model_module": "@jupyter-widgets/controls"
          }
        },
        "8d2470d564374d4b8e663cc43d47e5af": {
          "model_module": "@jupyter-widgets/base",
          "model_name": "LayoutModel",
          "state": {
            "_view_name": "LayoutView",
            "grid_template_rows": null,
            "right": null,
            "justify_content": null,
            "_view_module": "@jupyter-widgets/base",
            "overflow": null,
            "_model_module_version": "1.2.0",
            "_view_count": null,
            "flex_flow": null,
            "width": null,
            "min_width": null,
            "border": null,
            "align_items": null,
            "bottom": null,
            "_model_module": "@jupyter-widgets/base",
            "top": null,
            "grid_column": null,
            "overflow_y": null,
            "overflow_x": null,
            "grid_auto_flow": null,
            "grid_area": null,
            "grid_template_columns": null,
            "flex": null,
            "_model_name": "LayoutModel",
            "justify_items": null,
            "grid_row": null,
            "max_height": null,
            "align_content": null,
            "visibility": null,
            "align_self": null,
            "height": null,
            "min_height": null,
            "padding": null,
            "grid_auto_rows": null,
            "grid_gap": null,
            "max_width": null,
            "order": null,
            "_view_module_version": "1.2.0",
            "grid_template_areas": null,
            "object_position": null,
            "object_fit": null,
            "grid_auto_columns": null,
            "margin": null,
            "display": null,
            "left": null
          }
        },
        "e0d2f18d51064abdb20c168f5a19e660": {
          "model_module": "@jupyter-widgets/controls",
          "model_name": "HBoxModel",
          "state": {
            "_view_name": "HBoxView",
            "_dom_classes": [],
            "_model_name": "HBoxModel",
            "_view_module": "@jupyter-widgets/controls",
            "_model_module_version": "1.5.0",
            "_view_count": null,
            "_view_module_version": "1.5.0",
            "box_style": "",
            "layout": "IPY_MODEL_35da203a900542dcb7b72048100e25ec",
            "_model_module": "@jupyter-widgets/controls",
            "children": [
              "IPY_MODEL_530afce67d084d70aa079d1d3baed285",
              "IPY_MODEL_ca4b2c22f7b840d1b2c975a7f02dbee2"
            ]
          }
        },
        "35da203a900542dcb7b72048100e25ec": {
          "model_module": "@jupyter-widgets/base",
          "model_name": "LayoutModel",
          "state": {
            "_view_name": "LayoutView",
            "grid_template_rows": null,
            "right": null,
            "justify_content": null,
            "_view_module": "@jupyter-widgets/base",
            "overflow": null,
            "_model_module_version": "1.2.0",
            "_view_count": null,
            "flex_flow": null,
            "width": null,
            "min_width": null,
            "border": null,
            "align_items": null,
            "bottom": null,
            "_model_module": "@jupyter-widgets/base",
            "top": null,
            "grid_column": null,
            "overflow_y": null,
            "overflow_x": null,
            "grid_auto_flow": null,
            "grid_area": null,
            "grid_template_columns": null,
            "flex": null,
            "_model_name": "LayoutModel",
            "justify_items": null,
            "grid_row": null,
            "max_height": null,
            "align_content": null,
            "visibility": null,
            "align_self": null,
            "height": null,
            "min_height": null,
            "padding": null,
            "grid_auto_rows": null,
            "grid_gap": null,
            "max_width": null,
            "order": null,
            "_view_module_version": "1.2.0",
            "grid_template_areas": null,
            "object_position": null,
            "object_fit": null,
            "grid_auto_columns": null,
            "margin": null,
            "display": null,
            "left": null
          }
        },
        "530afce67d084d70aa079d1d3baed285": {
          "model_module": "@jupyter-widgets/controls",
          "model_name": "FloatProgressModel",
          "state": {
            "_view_name": "ProgressView",
            "style": "IPY_MODEL_86ad6ccc2ee24bc3bff7ba527fe65765",
            "_dom_classes": [],
            "description": "100%",
            "_model_name": "FloatProgressModel",
            "bar_style": "success",
            "max": 7469,
            "_view_module": "@jupyter-widgets/controls",
            "_model_module_version": "1.5.0",
            "value": 7469,
            "_view_count": null,
            "_view_module_version": "1.5.0",
            "orientation": "horizontal",
            "min": 0,
            "description_tooltip": null,
            "_model_module": "@jupyter-widgets/controls",
            "layout": "IPY_MODEL_c59f730a459e41e6af6ddbbd0f6b05a6"
          }
        },
        "ca4b2c22f7b840d1b2c975a7f02dbee2": {
          "model_module": "@jupyter-widgets/controls",
          "model_name": "HTMLModel",
          "state": {
            "_view_name": "HTMLView",
            "style": "IPY_MODEL_ff0a9199556b4833a89f5c8992ef1f85",
            "_dom_classes": [],
            "description": "",
            "_model_name": "HTMLModel",
            "placeholder": "​",
            "_view_module": "@jupyter-widgets/controls",
            "_model_module_version": "1.5.0",
            "value": " 7469/7469 [01:46&lt;00:00, 70.32it/s]",
            "_view_count": null,
            "_view_module_version": "1.5.0",
            "description_tooltip": null,
            "_model_module": "@jupyter-widgets/controls",
            "layout": "IPY_MODEL_db4fa7f46c424074827000e7943f9d22"
          }
        },
        "86ad6ccc2ee24bc3bff7ba527fe65765": {
          "model_module": "@jupyter-widgets/controls",
          "model_name": "ProgressStyleModel",
          "state": {
            "_view_name": "StyleView",
            "_model_name": "ProgressStyleModel",
            "description_width": "initial",
            "_view_module": "@jupyter-widgets/base",
            "_model_module_version": "1.5.0",
            "_view_count": null,
            "_view_module_version": "1.2.0",
            "bar_color": null,
            "_model_module": "@jupyter-widgets/controls"
          }
        },
        "c59f730a459e41e6af6ddbbd0f6b05a6": {
          "model_module": "@jupyter-widgets/base",
          "model_name": "LayoutModel",
          "state": {
            "_view_name": "LayoutView",
            "grid_template_rows": null,
            "right": null,
            "justify_content": null,
            "_view_module": "@jupyter-widgets/base",
            "overflow": null,
            "_model_module_version": "1.2.0",
            "_view_count": null,
            "flex_flow": null,
            "width": null,
            "min_width": null,
            "border": null,
            "align_items": null,
            "bottom": null,
            "_model_module": "@jupyter-widgets/base",
            "top": null,
            "grid_column": null,
            "overflow_y": null,
            "overflow_x": null,
            "grid_auto_flow": null,
            "grid_area": null,
            "grid_template_columns": null,
            "flex": null,
            "_model_name": "LayoutModel",
            "justify_items": null,
            "grid_row": null,
            "max_height": null,
            "align_content": null,
            "visibility": null,
            "align_self": null,
            "height": null,
            "min_height": null,
            "padding": null,
            "grid_auto_rows": null,
            "grid_gap": null,
            "max_width": null,
            "order": null,
            "_view_module_version": "1.2.0",
            "grid_template_areas": null,
            "object_position": null,
            "object_fit": null,
            "grid_auto_columns": null,
            "margin": null,
            "display": null,
            "left": null
          }
        },
        "ff0a9199556b4833a89f5c8992ef1f85": {
          "model_module": "@jupyter-widgets/controls",
          "model_name": "DescriptionStyleModel",
          "state": {
            "_view_name": "StyleView",
            "_model_name": "DescriptionStyleModel",
            "description_width": "",
            "_view_module": "@jupyter-widgets/base",
            "_model_module_version": "1.5.0",
            "_view_count": null,
            "_view_module_version": "1.2.0",
            "_model_module": "@jupyter-widgets/controls"
          }
        },
        "db4fa7f46c424074827000e7943f9d22": {
          "model_module": "@jupyter-widgets/base",
          "model_name": "LayoutModel",
          "state": {
            "_view_name": "LayoutView",
            "grid_template_rows": null,
            "right": null,
            "justify_content": null,
            "_view_module": "@jupyter-widgets/base",
            "overflow": null,
            "_model_module_version": "1.2.0",
            "_view_count": null,
            "flex_flow": null,
            "width": null,
            "min_width": null,
            "border": null,
            "align_items": null,
            "bottom": null,
            "_model_module": "@jupyter-widgets/base",
            "top": null,
            "grid_column": null,
            "overflow_y": null,
            "overflow_x": null,
            "grid_auto_flow": null,
            "grid_area": null,
            "grid_template_columns": null,
            "flex": null,
            "_model_name": "LayoutModel",
            "justify_items": null,
            "grid_row": null,
            "max_height": null,
            "align_content": null,
            "visibility": null,
            "align_self": null,
            "height": null,
            "min_height": null,
            "padding": null,
            "grid_auto_rows": null,
            "grid_gap": null,
            "max_width": null,
            "order": null,
            "_view_module_version": "1.2.0",
            "grid_template_areas": null,
            "object_position": null,
            "object_fit": null,
            "grid_auto_columns": null,
            "margin": null,
            "display": null,
            "left": null
          }
        }
      }
    }
  },
  "cells": [
    {
      "cell_type": "markdown",
      "metadata": {
        "id": "view-in-github",
        "colab_type": "text"
      },
      "source": [
        "<a href=\"https://colab.research.google.com/github/persie2212/Yoga-Pose-Estimation/blob/master/Yoga_Pose_Type_Recognition.ipynb\" target=\"_parent\"><img src=\"https://colab.research.google.com/assets/colab-badge.svg\" alt=\"Open In Colab\"/></a>"
      ]
    },
    {
      "cell_type": "markdown",
      "metadata": {
        "id": "81IL5Cor0W9g",
        "colab_type": "text"
      },
      "source": [
        "# Table of contents\n",
        "\n",
        "## Install Monk\n",
        "\n",
        "\n",
        "## Using pretrained model for classifying yoga posture types \n",
        "\n",
        "\n",
        "## Training a classifier from scratch\n",
        "\n"
      ]
    },
    {
      "cell_type": "markdown",
      "metadata": {
        "id": "KF5XCadW0W9p",
        "colab_type": "text"
      },
      "source": [
        "# Install Monk\n",
        "\n",
        "  - git clone https://github.com/Tessellate-Imaging/monk_v1.git\n",
        "\n",
        "  - cd monk_v1/installation/Linux && pip install -r requirements_cu9.txt\n",
        "        (Select the requirements file as per OS and CUDA version)"
      ]
    },
    {
      "cell_type": "code",
      "metadata": {
        "id": "gLRh_rxD0W9q",
        "colab_type": "code",
        "colab": {
          "base_uri": "https://localhost:8080/",
          "height": 35
        },
        "outputId": "ce0865f9-2ddc-4836-aad3-c555b4dfe620"
      },
      "source": [
        "! git clone https://github.com/Tessellate-Imaging/monk_v1.git"
      ],
      "execution_count": null,
      "outputs": [
        {
          "output_type": "stream",
          "text": [
            "fatal: destination path 'monk_v1' already exists and is not an empty directory.\n"
          ],
          "name": "stdout"
        }
      ]
    },
    {
      "cell_type": "code",
      "metadata": {
        "id": "27fwW0e40W9t",
        "colab_type": "code",
        "colab": {
          "base_uri": "https://localhost:8080/",
          "height": 713
        },
        "outputId": "185ba958-6160-4463-e9cf-d584d0b628ab"
      },
      "source": [
        "# If using Colab install using the commands below\n",
        "! cd monk_v1/installation/Misc && pip install -r requirements_colab.txt\n",
        "\n",
        "# If using Kaggle uncomment the following command\n",
        "#! cd monk_v1/installation/Misc && pip install -r requirements_kaggle.txt\n",
        "\n",
        "# Select the requirements file as per OS and CUDA version when using a local system or cloud\n",
        "#! cd monk_v1/installation/Linux && pip install -r requirements_cu9.txt"
      ],
      "execution_count": null,
      "outputs": [
        {
          "output_type": "stream",
          "text": [
            "Collecting GPUtil\n",
            "  Downloading https://files.pythonhosted.org/packages/ed/0e/5c61eedde9f6c87713e89d794f01e378cfd9565847d4576fa627d758c554/GPUtil-1.4.0.tar.gz\n",
            "Collecting mxnet-cu101\n",
            "\u001b[?25l  Downloading https://files.pythonhosted.org/packages/54/b1/7d01abca10eef104296d2b3f0c59a7dda7573126d079c9e2609e6c17993b/mxnet_cu101-1.6.0-py2.py3-none-manylinux1_x86_64.whl (710.5MB)\n",
            "\u001b[K     |████████████████████████████████| 710.5MB 17kB/s \n",
            "\u001b[?25hCollecting pylg\n",
            "  Downloading https://files.pythonhosted.org/packages/6c/15/20e454f122d87e4088803be527de8566468608c55645b573f702e11cb63c/PyLg-1.3.3-py3-none-any.whl\n",
            "Collecting gluoncv\n",
            "\u001b[?25l  Downloading https://files.pythonhosted.org/packages/fa/81/37a00609cb53da3671adb106b9bc03fb1c029ad5a8db4bc668283e65703d/gluoncv-0.7.0-py2.py3-none-any.whl (752kB)\n",
            "\u001b[K     |████████████████████████████████| 757kB 37.8MB/s \n",
            "\u001b[?25hRequirement already satisfied: numpy<2.0.0,>1.16.0 in /usr/local/lib/python3.6/dist-packages (from mxnet-cu101->-r requirements_colab.txt (line 2)) (1.18.5)\n",
            "Collecting graphviz<0.9.0,>=0.8.1\n",
            "  Downloading https://files.pythonhosted.org/packages/53/39/4ab213673844e0c004bed8a0781a0721a3f6bb23eb8854ee75c236428892/graphviz-0.8.4-py2.py3-none-any.whl\n",
            "Requirement already satisfied: requests<3,>=2.20.0 in /usr/local/lib/python3.6/dist-packages (from mxnet-cu101->-r requirements_colab.txt (line 2)) (2.23.0)\n",
            "Collecting portalocker\n",
            "  Downloading https://files.pythonhosted.org/packages/53/84/7b3146ec6378d28abc73ab484f09f47dfa008ad6f03f33d90a369f880e25/portalocker-1.7.0-py2.py3-none-any.whl\n",
            "Requirement already satisfied: matplotlib in /usr/local/lib/python3.6/dist-packages (from gluoncv->-r requirements_colab.txt (line 4)) (3.2.2)\n",
            "Requirement already satisfied: tqdm in /usr/local/lib/python3.6/dist-packages (from gluoncv->-r requirements_colab.txt (line 4)) (4.41.1)\n",
            "Requirement already satisfied: scipy in /usr/local/lib/python3.6/dist-packages (from gluoncv->-r requirements_colab.txt (line 4)) (1.4.1)\n",
            "Requirement already satisfied: Pillow in /usr/local/lib/python3.6/dist-packages (from gluoncv->-r requirements_colab.txt (line 4)) (7.0.0)\n",
            "Requirement already satisfied: idna<3,>=2.5 in /usr/local/lib/python3.6/dist-packages (from requests<3,>=2.20.0->mxnet-cu101->-r requirements_colab.txt (line 2)) (2.9)\n",
            "Requirement already satisfied: chardet<4,>=3.0.2 in /usr/local/lib/python3.6/dist-packages (from requests<3,>=2.20.0->mxnet-cu101->-r requirements_colab.txt (line 2)) (3.0.4)\n",
            "Requirement already satisfied: urllib3!=1.25.0,!=1.25.1,<1.26,>=1.21.1 in /usr/local/lib/python3.6/dist-packages (from requests<3,>=2.20.0->mxnet-cu101->-r requirements_colab.txt (line 2)) (1.24.3)\n",
            "Requirement already satisfied: certifi>=2017.4.17 in /usr/local/lib/python3.6/dist-packages (from requests<3,>=2.20.0->mxnet-cu101->-r requirements_colab.txt (line 2)) (2020.6.20)\n",
            "Requirement already satisfied: pyparsing!=2.0.4,!=2.1.2,!=2.1.6,>=2.0.1 in /usr/local/lib/python3.6/dist-packages (from matplotlib->gluoncv->-r requirements_colab.txt (line 4)) (2.4.7)\n",
            "Requirement already satisfied: cycler>=0.10 in /usr/local/lib/python3.6/dist-packages (from matplotlib->gluoncv->-r requirements_colab.txt (line 4)) (0.10.0)\n",
            "Requirement already satisfied: python-dateutil>=2.1 in /usr/local/lib/python3.6/dist-packages (from matplotlib->gluoncv->-r requirements_colab.txt (line 4)) (2.8.1)\n",
            "Requirement already satisfied: kiwisolver>=1.0.1 in /usr/local/lib/python3.6/dist-packages (from matplotlib->gluoncv->-r requirements_colab.txt (line 4)) (1.2.0)\n",
            "Requirement already satisfied: six in /usr/local/lib/python3.6/dist-packages (from cycler>=0.10->matplotlib->gluoncv->-r requirements_colab.txt (line 4)) (1.12.0)\n",
            "Building wheels for collected packages: GPUtil\n",
            "  Building wheel for GPUtil (setup.py) ... \u001b[?25l\u001b[?25hdone\n",
            "  Created wheel for GPUtil: filename=GPUtil-1.4.0-cp36-none-any.whl size=7413 sha256=4e97655685a026bf1ac4f9b57a6f1d95bbb85507acc5c795194de37cd5361266\n",
            "  Stored in directory: /root/.cache/pip/wheels/3d/77/07/80562de4bb0786e5ea186911a2c831fdd0018bda69beab71fd\n",
            "Successfully built GPUtil\n",
            "Installing collected packages: GPUtil, graphviz, mxnet-cu101, pylg, portalocker, gluoncv\n",
            "  Found existing installation: graphviz 0.10.1\n",
            "    Uninstalling graphviz-0.10.1:\n",
            "      Successfully uninstalled graphviz-0.10.1\n",
            "Successfully installed GPUtil-1.4.0 gluoncv-0.7.0 graphviz-0.8.4 mxnet-cu101-1.6.0 portalocker-1.7.0 pylg-1.3.3\n"
          ],
          "name": "stdout"
        }
      ]
    },
    {
      "cell_type": "code",
      "metadata": {
        "id": "c1NBoJFQ0W9w",
        "colab_type": "code",
        "colab": {}
      },
      "source": [
        ""
      ],
      "execution_count": null,
      "outputs": []
    },
    {
      "cell_type": "code",
      "metadata": {
        "id": "vbfga-2c0W9z",
        "colab_type": "code",
        "colab": {}
      },
      "source": [
        ""
      ],
      "execution_count": null,
      "outputs": []
    },
    {
      "cell_type": "code",
      "metadata": {
        "id": "UgdwQjdk0W93",
        "colab_type": "code",
        "colab": {}
      },
      "source": [
        ""
      ],
      "execution_count": null,
      "outputs": []
    },
    {
      "cell_type": "markdown",
      "metadata": {
        "id": "i0xfzJHd0W96",
        "colab_type": "text"
      },
      "source": [
        "# Dataset Download\n",
        "    - Credits: https://sites.google.com/view/yoga-82/home\n",
        "\n"
      ]
    },
    {
      "cell_type": "code",
      "metadata": {
        "id": "AGb5ECp80W99",
        "colab_type": "code",
        "colab": {}
      },
      "source": [
        "import sys\n",
        "import os"
      ],
      "execution_count": null,
      "outputs": []
    },
    {
      "cell_type": "code",
      "metadata": {
        "id": "fJM5_2y_0W9_",
        "colab_type": "code",
        "colab": {
          "base_uri": "https://localhost:8080/",
          "height": 52
        },
        "outputId": "1b5fe938-eed1-454d-b007-2b1a57df791d"
      },
      "source": [
        "!sudo rm  /content/drive/My Drive/Yoga-82/yoga_dataset_links/desktop.ini"
      ],
      "execution_count": null,
      "outputs": [
        {
          "output_type": "stream",
          "text": [
            "rm: cannot remove '/content/drive/My': No such file or directory\n",
            "rm: cannot remove 'Drive/Yoga-82/yoga_dataset_links/desktop.ini': No such file or directory\n"
          ],
          "name": "stdout"
        }
      ]
    },
    {
      "cell_type": "code",
      "metadata": {
        "id": "7obhYKT0wUuR",
        "colab_type": "code",
        "colab": {
          "base_uri": "https://localhost:8080/",
          "height": 55
        },
        "outputId": "dcdcdac0-457b-40db-c04e-ca1084f272e4"
      },
      "source": [
        "from google.colab import drive\n",
        "drive.mount('/content/drive')"
      ],
      "execution_count": null,
      "outputs": [
        {
          "output_type": "stream",
          "text": [
            "Drive already mounted at /content/drive; to attempt to forcibly remount, call drive.mount(\"/content/drive\", force_remount=True).\n"
          ],
          "name": "stdout"
        }
      ]
    },
    {
      "cell_type": "code",
      "metadata": {
        "id": "Pf-KKhkr0W-B",
        "colab_type": "code",
        "colab": {
          "base_uri": "https://localhost:8080/",
          "height": 1000
        },
        "outputId": "00525ea3-7e40-44a7-a9e9-2ad6e631d5d4"
      },
      "source": [
        "os.listdir('/content/drive/My Drive/Yoga-82/yoga_dataset_links')"
      ],
      "execution_count": null,
      "outputs": [
        {
          "output_type": "execute_result",
          "data": {
            "text/plain": [
              "['desktop.ini',\n",
              " 'Extended_Puppy_Pose_or_Uttana_Shishosana_.txt',\n",
              " 'Eight-Angle_Pose_or_Astavakrasana_.txt',\n",
              " 'Fish_Pose_or_Matsyasana_.txt',\n",
              " 'Peacock_Pose_or_Mayurasana_.txt',\n",
              " 'Staff_Pose_or_Dandasana_.txt',\n",
              " 'viparita_virabhadrasana_or_reverse_warrior_pose.txt',\n",
              " 'Cockerel_Pose.txt',\n",
              " 'Frog_Pose_or_Bhekasana.txt',\n",
              " 'Warrior_III_Pose_or_Virabhadrasana_III_.txt',\n",
              " 'Seated_Forward_Bend_pose_or_Paschimottanasana_.txt',\n",
              " 'Supta_Baddha_Konasana_.txt',\n",
              " 'Side_Crane_(Crow)_Pose_or_Parsva_Bakasana_.txt',\n",
              " 'Heron_Pose_or_Krounchasana_.txt',\n",
              " 'Supta_Virasana_Vajrasana.txt',\n",
              " 'Wide-Legged_Forward_Bend_pose_or_Prasarita_Padottanasana_.txt',\n",
              " 'Warrior_I_Pose_or_Virabhadrasana_I_.txt',\n",
              " 'Handstand_pose_or_Adho_Mukha_Vrksasana_.txt',\n",
              " 'Corpse_Pose_or_Savasana_.txt',\n",
              " 'Head-to-Knee_Forward_Bend_pose_or_Janu_Sirsasana_.txt',\n",
              " 'Low_Lunge_pose_or_Anjaneyasana_.txt',\n",
              " 'Chair_Pose_or_Utkatasana_.txt',\n",
              " 'Half_Moon_Pose_or_Ardha_Chandrasana_.txt',\n",
              " 'Plow_Pose_or_Halasana_.txt',\n",
              " 'Tree_Pose_or_Vrksasana_.txt',\n",
              " 'Cobra_Pose_or_Bhujangasana_.txt',\n",
              " 'Crane_(Crow)_Pose_or_Bakasana_.txt',\n",
              " 'Cow_Face_Pose_or_Gomukhasana_.txt',\n",
              " 'Bow_Pose_or_Dhanurasana_.txt',\n",
              " 'Side_Plank_Pose_or_Vasisthasana_.txt',\n",
              " 'Pigeon_Pose_or_Kapotasana_.txt',\n",
              " 'Side-Reclining_Leg_Lift_pose_or_Anantasana_.txt',\n",
              " 'Extended_Revolved_Triangle_Pose_or_Utthita_Trikonasana_.txt',\n",
              " 'Supported_Shoulderstand_pose_or_Salamba_Sarvangasana_.txt',\n",
              " 'Bound_Angle_Pose_or_Baddha_Konasana_.txt',\n",
              " 'Feathered_Peacock_Pose_or_Pincha_Mayurasana_.txt',\n",
              " 'Reclining_Hand-to-Big-Toe_Pose_or_Supta_Padangusthasana_.txt',\n",
              " 'Standing_Forward_Bend_pose_or_Uttanasana_.txt',\n",
              " 'Dolphin_Plank_Pose_or_Makara_Adho_Mukha_Svanasana_.txt',\n",
              " 'Pose_Dedicated_to_the_Sage_Koundinya_or_Eka_Pada_Koundinyanasana_I_and_II.txt',\n",
              " 'Standing_big_toe_hold_pose_or_Utthita_Padangusthasana.txt',\n",
              " 'Lord_of_the_Dance_Pose_or_Natarajasana_.txt',\n",
              " 'Cat_Cow_Pose_or_Marjaryasana_.txt',\n",
              " 'Child_Pose_or_Balasana_.txt',\n",
              " 'Legs-Up-the-Wall_Pose_or_Viparita_Karani_.txt',\n",
              " 'Firefly_Pose_or_Tittibhasana_.txt',\n",
              " 'Scale_Pose_or_Tolasana_.txt',\n",
              " 'Four-Limbed_Staff_Pose_or_Chaturanga_Dandasana_.txt',\n",
              " 'Wide-Angle_Seated_Forward_Bend_pose_or_Upavistha_Konasana_.txt',\n",
              " 'Gate_Pose_or_Parighasana_.txt',\n",
              " 'Dolphin_Pose_or_Ardha_Pincha_Mayurasana_.txt',\n",
              " 'Upward_Plank_Pose_or_Purvottanasana_.txt',\n",
              " 'Camel_Pose_or_Ustrasana_.txt',\n",
              " 'Shoulder-Pressing_Pose_or_Bhujapidasana_.txt',\n",
              " 'Extended_Revolved_Side_Angle_Pose_or_Utthita_Parsvakonasana_.txt',\n",
              " 'Sitting pose 1 (normal).txt',\n",
              " 'Intense_Side_Stretch_Pose_or_Parsvottanasana_.txt',\n",
              " 'Wind_Relieving_pose_or_Pawanmuktasana.txt',\n",
              " 'Downward-Facing_Dog_pose_or_Adho_Mukha_Svanasana_.txt',\n",
              " 'Upward_Bow_(Wheel)_Pose_or_Urdhva_Dhanurasana_.txt',\n",
              " 'Wild_Thing_pose_or_Camatkarasana_.txt',\n",
              " 'Noose_Pose_or_Pasasana_.txt',\n",
              " 'Split pose.txt',\n",
              " 'Garland_Pose_or_Malasana_.txt',\n",
              " 'Tortoise_Pose.txt',\n",
              " 'Plank_Pose_or_Kumbhakasana_.txt',\n",
              " 'Bridge_Pose_or_Setu_Bandha_Sarvangasana_.txt',\n",
              " 'Supported_Headstand_pose_or_Salamba_Sirsasana_.txt',\n",
              " 'Locust_Pose_or_Salabhasana_.txt',\n",
              " 'Yogic_sleep_pose.txt',\n",
              " 'Boat_Pose_or_Paripurna_Navasana_.txt',\n",
              " 'Happy_Baby_Pose_or_Ananda_Balasana_.txt',\n",
              " 'Virasana_or_Vajrasana.txt',\n",
              " \"Bharadvaja's_Twist_pose_or_Bharadvajasana_I_.txt\",\n",
              " 'Standing_Split_pose_or_Urdhva_Prasarita_Eka_Padasana_.txt',\n",
              " 'Rajakapotasana.txt',\n",
              " 'Eagle_Pose_or_Garudasana_.txt',\n",
              " 'Upward_Facing_Two-Foot_Staff_Pose_or_Dwi_Pada_Viparita_Dandasana_.txt',\n",
              " 'Warrior_II_Pose_or_Virabhadrasana_II_.txt',\n",
              " 'Half_Lord_of_the_Fishes_Pose_or_Ardha_Matsyendrasana_.txt',\n",
              " 'Revolved_Head-to-Knee_Pose_or_Parivrtta_Janu_Sirsasana_.txt',\n",
              " 'Scorpion_pose_or_vrischikasana.txt',\n",
              " 'Akarna_Dhanurasana.txt']"
            ]
          },
          "metadata": {
            "tags": []
          },
          "execution_count": 6
        }
      ]
    },
    {
      "cell_type": "code",
      "metadata": {
        "id": "bUZHEMbf0W-E",
        "colab_type": "code",
        "colab": {
          "base_uri": "https://localhost:8080/",
          "height": 1000
        },
        "outputId": "e7887fb7-80b8-4c2d-e0e9-3bfa18a3f354"
      },
      "source": [
        "file_list = os.listdir('/content/drive/My Drive/Yoga-82/yoga_dataset_links')\n",
        "file_list"
      ],
      "execution_count": null,
      "outputs": [
        {
          "output_type": "execute_result",
          "data": {
            "text/plain": [
              "['desktop.ini',\n",
              " 'Extended_Puppy_Pose_or_Uttana_Shishosana_.txt',\n",
              " 'Eight-Angle_Pose_or_Astavakrasana_.txt',\n",
              " 'Fish_Pose_or_Matsyasana_.txt',\n",
              " 'Peacock_Pose_or_Mayurasana_.txt',\n",
              " 'Staff_Pose_or_Dandasana_.txt',\n",
              " 'viparita_virabhadrasana_or_reverse_warrior_pose.txt',\n",
              " 'Cockerel_Pose.txt',\n",
              " 'Frog_Pose_or_Bhekasana.txt',\n",
              " 'Warrior_III_Pose_or_Virabhadrasana_III_.txt',\n",
              " 'Seated_Forward_Bend_pose_or_Paschimottanasana_.txt',\n",
              " 'Supta_Baddha_Konasana_.txt',\n",
              " 'Side_Crane_(Crow)_Pose_or_Parsva_Bakasana_.txt',\n",
              " 'Heron_Pose_or_Krounchasana_.txt',\n",
              " 'Supta_Virasana_Vajrasana.txt',\n",
              " 'Wide-Legged_Forward_Bend_pose_or_Prasarita_Padottanasana_.txt',\n",
              " 'Warrior_I_Pose_or_Virabhadrasana_I_.txt',\n",
              " 'Handstand_pose_or_Adho_Mukha_Vrksasana_.txt',\n",
              " 'Corpse_Pose_or_Savasana_.txt',\n",
              " 'Head-to-Knee_Forward_Bend_pose_or_Janu_Sirsasana_.txt',\n",
              " 'Low_Lunge_pose_or_Anjaneyasana_.txt',\n",
              " 'Chair_Pose_or_Utkatasana_.txt',\n",
              " 'Half_Moon_Pose_or_Ardha_Chandrasana_.txt',\n",
              " 'Plow_Pose_or_Halasana_.txt',\n",
              " 'Tree_Pose_or_Vrksasana_.txt',\n",
              " 'Cobra_Pose_or_Bhujangasana_.txt',\n",
              " 'Crane_(Crow)_Pose_or_Bakasana_.txt',\n",
              " 'Cow_Face_Pose_or_Gomukhasana_.txt',\n",
              " 'Bow_Pose_or_Dhanurasana_.txt',\n",
              " 'Side_Plank_Pose_or_Vasisthasana_.txt',\n",
              " 'Pigeon_Pose_or_Kapotasana_.txt',\n",
              " 'Side-Reclining_Leg_Lift_pose_or_Anantasana_.txt',\n",
              " 'Extended_Revolved_Triangle_Pose_or_Utthita_Trikonasana_.txt',\n",
              " 'Supported_Shoulderstand_pose_or_Salamba_Sarvangasana_.txt',\n",
              " 'Bound_Angle_Pose_or_Baddha_Konasana_.txt',\n",
              " 'Feathered_Peacock_Pose_or_Pincha_Mayurasana_.txt',\n",
              " 'Reclining_Hand-to-Big-Toe_Pose_or_Supta_Padangusthasana_.txt',\n",
              " 'Standing_Forward_Bend_pose_or_Uttanasana_.txt',\n",
              " 'Dolphin_Plank_Pose_or_Makara_Adho_Mukha_Svanasana_.txt',\n",
              " 'Pose_Dedicated_to_the_Sage_Koundinya_or_Eka_Pada_Koundinyanasana_I_and_II.txt',\n",
              " 'Standing_big_toe_hold_pose_or_Utthita_Padangusthasana.txt',\n",
              " 'Lord_of_the_Dance_Pose_or_Natarajasana_.txt',\n",
              " 'Cat_Cow_Pose_or_Marjaryasana_.txt',\n",
              " 'Child_Pose_or_Balasana_.txt',\n",
              " 'Legs-Up-the-Wall_Pose_or_Viparita_Karani_.txt',\n",
              " 'Firefly_Pose_or_Tittibhasana_.txt',\n",
              " 'Scale_Pose_or_Tolasana_.txt',\n",
              " 'Four-Limbed_Staff_Pose_or_Chaturanga_Dandasana_.txt',\n",
              " 'Wide-Angle_Seated_Forward_Bend_pose_or_Upavistha_Konasana_.txt',\n",
              " 'Gate_Pose_or_Parighasana_.txt',\n",
              " 'Dolphin_Pose_or_Ardha_Pincha_Mayurasana_.txt',\n",
              " 'Upward_Plank_Pose_or_Purvottanasana_.txt',\n",
              " 'Camel_Pose_or_Ustrasana_.txt',\n",
              " 'Shoulder-Pressing_Pose_or_Bhujapidasana_.txt',\n",
              " 'Extended_Revolved_Side_Angle_Pose_or_Utthita_Parsvakonasana_.txt',\n",
              " 'Sitting pose 1 (normal).txt',\n",
              " 'Intense_Side_Stretch_Pose_or_Parsvottanasana_.txt',\n",
              " 'Wind_Relieving_pose_or_Pawanmuktasana.txt',\n",
              " 'Downward-Facing_Dog_pose_or_Adho_Mukha_Svanasana_.txt',\n",
              " 'Upward_Bow_(Wheel)_Pose_or_Urdhva_Dhanurasana_.txt',\n",
              " 'Wild_Thing_pose_or_Camatkarasana_.txt',\n",
              " 'Noose_Pose_or_Pasasana_.txt',\n",
              " 'Split pose.txt',\n",
              " 'Garland_Pose_or_Malasana_.txt',\n",
              " 'Tortoise_Pose.txt',\n",
              " 'Plank_Pose_or_Kumbhakasana_.txt',\n",
              " 'Bridge_Pose_or_Setu_Bandha_Sarvangasana_.txt',\n",
              " 'Supported_Headstand_pose_or_Salamba_Sirsasana_.txt',\n",
              " 'Locust_Pose_or_Salabhasana_.txt',\n",
              " 'Yogic_sleep_pose.txt',\n",
              " 'Boat_Pose_or_Paripurna_Navasana_.txt',\n",
              " 'Happy_Baby_Pose_or_Ananda_Balasana_.txt',\n",
              " 'Virasana_or_Vajrasana.txt',\n",
              " \"Bharadvaja's_Twist_pose_or_Bharadvajasana_I_.txt\",\n",
              " 'Standing_Split_pose_or_Urdhva_Prasarita_Eka_Padasana_.txt',\n",
              " 'Rajakapotasana.txt',\n",
              " 'Eagle_Pose_or_Garudasana_.txt',\n",
              " 'Upward_Facing_Two-Foot_Staff_Pose_or_Dwi_Pada_Viparita_Dandasana_.txt',\n",
              " 'Warrior_II_Pose_or_Virabhadrasana_II_.txt',\n",
              " 'Half_Lord_of_the_Fishes_Pose_or_Ardha_Matsyendrasana_.txt',\n",
              " 'Revolved_Head-to-Knee_Pose_or_Parivrtta_Janu_Sirsasana_.txt',\n",
              " 'Scorpion_pose_or_vrischikasana.txt',\n",
              " 'Akarna_Dhanurasana.txt']"
            ]
          },
          "metadata": {
            "tags": []
          },
          "execution_count": 7
        }
      ]
    },
    {
      "cell_type": "code",
      "metadata": {
        "id": "3YFB8-TZ0W-J",
        "colab_type": "code",
        "colab": {}
      },
      "source": [
        ""
      ],
      "execution_count": null,
      "outputs": []
    },
    {
      "cell_type": "code",
      "metadata": {
        "id": "VMR_u18a0W-M",
        "colab_type": "code",
        "colab": {
          "base_uri": "https://localhost:8080/",
          "height": 166
        },
        "outputId": "8fc1eb92-1ff1-40cc-80ed-08a34b748d4a"
      },
      "source": [
        "os.mkdir(\"Images\")"
      ],
      "execution_count": null,
      "outputs": [
        {
          "output_type": "error",
          "ename": "FileExistsError",
          "evalue": "ignored",
          "traceback": [
            "\u001b[0;31m---------------------------------------------------------------------------\u001b[0m",
            "\u001b[0;31mFileExistsError\u001b[0m                           Traceback (most recent call last)",
            "\u001b[0;32m<ipython-input-8-6133dadb5a0e>\u001b[0m in \u001b[0;36m<module>\u001b[0;34m()\u001b[0m\n\u001b[0;32m----> 1\u001b[0;31m \u001b[0mos\u001b[0m\u001b[0;34m.\u001b[0m\u001b[0mmkdir\u001b[0m\u001b[0;34m(\u001b[0m\u001b[0;34m\"Images\"\u001b[0m\u001b[0;34m)\u001b[0m\u001b[0;34m\u001b[0m\u001b[0;34m\u001b[0m\u001b[0m\n\u001b[0m",
            "\u001b[0;31mFileExistsError\u001b[0m: [Errno 17] File exists: 'Images'"
          ]
        }
      ]
    },
    {
      "cell_type": "code",
      "metadata": {
        "id": "anwdg0Bq0W-O",
        "colab_type": "code",
        "colab": {
          "base_uri": "https://localhost:8080/",
          "height": 351,
          "referenced_widgets": [
            "b24afb3e4cb4424fbf5caa667b1b47a7",
            "20b969bce2d94c369e5314b6ffce5808",
            "ac19a970ee33426cb9027e6d5d1fb78a",
            "ecc08e192386405ca4090a030e04e007",
            "12fddb7c10b9425692af6dfcb3eab945",
            "d1ceebdb25ca4fb68660c0e7e1d43ba6",
            "778f671a8c8a44c18b33d4f7c0cfdd7d",
            "2738e180e5e0406f8bc1926cee93b1ef",
            "56285f939746436eb03b24a9b34fa10a",
            "1deb154235b146bc84592926df1e6c53",
            "28aff43bc10b42d6bab8949dbe0510ad",
            "5f423dfecbf44130bbc2dd7689b8f318",
            "77e1e9492c3344b4946056f50bb77386",
            "c728206386304e0ab5d4a3ca1668c212",
            "516a95b621364ba785cdcbfc28300195",
            "8d2470d564374d4b8e663cc43d47e5af"
          ]
        },
        "outputId": "1f129499-d6f6-4ef5-8908-0938366c6220"
      },
      "source": [
        "from PIL import Image\n",
        "from tqdm.notebook import tqdm\n",
        "\n",
        "for i in tqdm(range(len(file_list))):\n",
        "    f = open(\"/content/drive/My Drive/Yoga-82/yoga_dataset_links/\" + file_list[i], 'r');\n",
        "    lines = f.readlines();\n",
        "    f.close();\n",
        "    \n",
        "    for j in tqdm(range(len(lines))):\n",
        "        print(lines[j])\n",
        "        splits = lines[j][:len(lines[j])-1].split(\",\")\n",
        "        img_path = splits[0];\n",
        "        link = splits[1];\n",
        "        \n",
        "        folder_name, img_name = img_path.split(\"/\");\n",
        "        if(j == 0):\n",
        "            if(not os.path.isdir(\"Images/\" + folder_name)):\n",
        "                os.mkdir(\"Images/\" + folder_name)\n",
        "        os.system(\"wget -O \" + \"Images/\" + folder_name + \"/\" + img_name + \" \" + link)\n",
        "        try:\n",
        "            img = Image.open(\"Images/\" + folder_name + \"/\" + img_name)\n",
        "            img.verify()     # to veify if its an img\n",
        "            img.close()     #to close img and free memory space\n",
        "        except (IOError, SyntaxError,IndexError) as e:\n",
        "          continue"
      ],
      "execution_count": null,
      "outputs": [
        {
          "output_type": "display_data",
          "data": {
            "application/vnd.jupyter.widget-view+json": {
              "model_id": "b24afb3e4cb4424fbf5caa667b1b47a7",
              "version_minor": 0,
              "version_major": 2
            },
            "text/plain": [
              "HBox(children=(FloatProgress(value=0.0, max=83.0), HTML(value='')))"
            ]
          },
          "metadata": {
            "tags": []
          }
        },
        {
          "output_type": "display_data",
          "data": {
            "application/vnd.jupyter.widget-view+json": {
              "model_id": "56285f939746436eb03b24a9b34fa10a",
              "version_minor": 0,
              "version_major": 2
            },
            "text/plain": [
              "HBox(children=(FloatProgress(value=0.0, max=5.0), HTML(value='')))"
            ]
          },
          "metadata": {
            "tags": []
          }
        },
        {
          "output_type": "stream",
          "text": [
            "[.ShellClassInfo]\n",
            "\n",
            "\n"
          ],
          "name": "stdout"
        },
        {
          "output_type": "error",
          "ename": "IndexError",
          "evalue": "ignored",
          "traceback": [
            "\u001b[0;31m---------------------------------------------------------------------------\u001b[0m",
            "\u001b[0;31mIndexError\u001b[0m                                Traceback (most recent call last)",
            "\u001b[0;32m<ipython-input-46-5675ccb21773>\u001b[0m in \u001b[0;36m<module>\u001b[0;34m()\u001b[0m\n\u001b[1;32m     11\u001b[0m         \u001b[0msplits\u001b[0m \u001b[0;34m=\u001b[0m \u001b[0mlines\u001b[0m\u001b[0;34m[\u001b[0m\u001b[0mj\u001b[0m\u001b[0;34m]\u001b[0m\u001b[0;34m[\u001b[0m\u001b[0;34m:\u001b[0m\u001b[0mlen\u001b[0m\u001b[0;34m(\u001b[0m\u001b[0mlines\u001b[0m\u001b[0;34m[\u001b[0m\u001b[0mj\u001b[0m\u001b[0;34m]\u001b[0m\u001b[0;34m)\u001b[0m\u001b[0;34m-\u001b[0m\u001b[0;36m1\u001b[0m\u001b[0;34m]\u001b[0m\u001b[0;34m.\u001b[0m\u001b[0msplit\u001b[0m\u001b[0;34m(\u001b[0m\u001b[0;34m\",\"\u001b[0m\u001b[0;34m)\u001b[0m\u001b[0;34m\u001b[0m\u001b[0;34m\u001b[0m\u001b[0m\n\u001b[1;32m     12\u001b[0m         \u001b[0mimg_path\u001b[0m \u001b[0;34m=\u001b[0m \u001b[0msplits\u001b[0m\u001b[0;34m[\u001b[0m\u001b[0;36m0\u001b[0m\u001b[0;34m]\u001b[0m\u001b[0;34m;\u001b[0m\u001b[0;34m\u001b[0m\u001b[0;34m\u001b[0m\u001b[0m\n\u001b[0;32m---> 13\u001b[0;31m         \u001b[0mlink\u001b[0m \u001b[0;34m=\u001b[0m \u001b[0msplits\u001b[0m\u001b[0;34m[\u001b[0m\u001b[0;36m1\u001b[0m\u001b[0;34m]\u001b[0m\u001b[0;34m;\u001b[0m\u001b[0;34m\u001b[0m\u001b[0;34m\u001b[0m\u001b[0m\n\u001b[0m\u001b[1;32m     14\u001b[0m \u001b[0;34m\u001b[0m\u001b[0m\n\u001b[1;32m     15\u001b[0m         \u001b[0mfolder_name\u001b[0m\u001b[0;34m,\u001b[0m \u001b[0mimg_name\u001b[0m \u001b[0;34m=\u001b[0m \u001b[0mimg_path\u001b[0m\u001b[0;34m.\u001b[0m\u001b[0msplit\u001b[0m\u001b[0;34m(\u001b[0m\u001b[0;34m\"/\"\u001b[0m\u001b[0;34m)\u001b[0m\u001b[0;34m;\u001b[0m\u001b[0;34m\u001b[0m\u001b[0;34m\u001b[0m\u001b[0m\n",
            "\u001b[0;31mIndexError\u001b[0m: list index out of range"
          ]
        }
      ]
    },
    {
      "cell_type": "code",
      "metadata": {
        "id": "C6zypvMD0W-T",
        "colab_type": "code",
        "colab": {}
      },
      "source": [
        "# split trainging and testing images"
      ],
      "execution_count": null,
      "outputs": []
    },
    {
      "cell_type": "code",
      "metadata": {
        "id": "qSNDUksv0W-X",
        "colab_type": "code",
        "colab": {}
      },
      "source": [
        "! mkdir Test"
      ],
      "execution_count": null,
      "outputs": []
    },
    {
      "cell_type": "code",
      "metadata": {
        "id": "tykTUyvi0W-b",
        "colab_type": "code",
        "colab": {}
      },
      "source": [
        "f = open(\"/content/drive/My Drive/Yoga-82/yoga_test.txt\");\n",
        "lines = f.readlines();\n",
        "f.close();"
      ],
      "execution_count": null,
      "outputs": []
    },
    {
      "cell_type": "code",
      "metadata": {
        "id": "ASCCuFum0W-d",
        "colab_type": "code",
        "colab": {
          "base_uri": "https://localhost:8080/",
          "height": 67,
          "referenced_widgets": [
            "e0d2f18d51064abdb20c168f5a19e660",
            "35da203a900542dcb7b72048100e25ec",
            "530afce67d084d70aa079d1d3baed285",
            "ca4b2c22f7b840d1b2c975a7f02dbee2",
            "86ad6ccc2ee24bc3bff7ba527fe65765",
            "c59f730a459e41e6af6ddbbd0f6b05a6",
            "ff0a9199556b4833a89f5c8992ef1f85",
            "db4fa7f46c424074827000e7943f9d22"
          ]
        },
        "outputId": "d6734c00-90b6-43c7-f387-e209361518c6"
      },
      "source": [
        "import os\n",
        "from tqdm.notebook import tqdm\n",
        "\n",
        "for i in tqdm(range(len(lines))):\n",
        "    folder_name, img_name = lines[i].split(\",\")[0].split(\"/\");\n",
        "    if(not os.path.isdir(\"Test/\" + folder_name)):\n",
        "        os.mkdir(\"Test/\" + folder_name);\n",
        "    os.system(\"mv \" + \"Images/\" + folder_name + \"/\" + img_name + \" Test/\" + folder_name + \"/\")"
      ],
      "execution_count": null,
      "outputs": [
        {
          "output_type": "display_data",
          "data": {
            "application/vnd.jupyter.widget-view+json": {
              "model_id": "e0d2f18d51064abdb20c168f5a19e660",
              "version_minor": 0,
              "version_major": 2
            },
            "text/plain": [
              "HBox(children=(FloatProgress(value=0.0, max=7469.0), HTML(value='')))"
            ]
          },
          "metadata": {
            "tags": []
          }
        },
        {
          "output_type": "stream",
          "text": [
            "\n"
          ],
          "name": "stdout"
        }
      ]
    },
    {
      "cell_type": "code",
      "metadata": {
        "id": "LC3PgCoI0W-g",
        "colab_type": "code",
        "colab": {}
      },
      "source": [
        ""
      ],
      "execution_count": null,
      "outputs": []
    },
    {
      "cell_type": "code",
      "metadata": {
        "id": "H8Jf_fRK0W-j",
        "colab_type": "code",
        "colab": {}
      },
      "source": [
        ""
      ],
      "execution_count": null,
      "outputs": []
    },
    {
      "cell_type": "code",
      "metadata": {
        "id": "Sim3ai8F0W-k",
        "colab_type": "code",
        "colab": {}
      },
      "source": [
        ""
      ],
      "execution_count": null,
      "outputs": []
    },
    {
      "cell_type": "code",
      "metadata": {
        "id": "F5MFoOl_0W-m",
        "colab_type": "code",
        "colab": {}
      },
      "source": [
        ""
      ],
      "execution_count": null,
      "outputs": []
    },
    {
      "cell_type": "code",
      "metadata": {
        "id": "HfM4-Q_N0W-r",
        "colab_type": "code",
        "colab": {}
      },
      "source": [
        ""
      ],
      "execution_count": null,
      "outputs": []
    },
    {
      "cell_type": "markdown",
      "metadata": {
        "id": "PrwGnR6p0W-w",
        "colab_type": "text"
      },
      "source": [
        "# Used trained classifier for demo"
      ]
    },
    {
      "cell_type": "code",
      "metadata": {
        "id": "q3s9lYfa0W-w",
        "colab_type": "code",
        "colab": {}
      },
      "source": [
        ""
      ],
      "execution_count": null,
      "outputs": []
    },
    {
      "cell_type": "code",
      "metadata": {
        "id": "AuQSdd3u0W-z",
        "colab_type": "code",
        "colab": {}
      },
      "source": [
        "# Import monk\n",
        "\n",
        "import os\n",
        "import sys\n",
        "sys.path.append(\"monk_v1/monk/\");"
      ],
      "execution_count": null,
      "outputs": []
    },
    {
      "cell_type": "code",
      "metadata": {
        "id": "g_7OANR70W-1",
        "colab_type": "code",
        "colab": {}
      },
      "source": [
        ""
      ],
      "execution_count": null,
      "outputs": []
    },
    {
      "cell_type": "code",
      "metadata": {
        "id": "w2rFzBw60W-3",
        "colab_type": "code",
        "colab": {}
      },
      "source": [
        "# Download trained weights"
      ],
      "execution_count": null,
      "outputs": []
    },
    {
      "cell_type": "code",
      "metadata": {
        "id": "Utn-aDSm0W-6",
        "colab_type": "code",
        "colab": {
          "base_uri": "https://localhost:8080/",
          "height": 644
        },
        "outputId": "aea1301d-24b9-4ab6-9177-eb799902b747"
      },
      "source": [
        "! wget --load-cookies /tmp/cookies.txt \"https://docs.google.com/uc?export=download&confirm=$(wget --save-cookies /tmp/cookies.txt --keep-session-cookies --no-check-certificate 'https://docs.google.com/uc?export=download&id=1KL0wzmh8xAwhmBZf8Uee2-LcHgd43zr5' -O- | sed -rn 's/.*confirm=([0-9A-Za-z_]+).*/\\1\\n/p')&id=1KL0wzmh8xAwhmBZf8Uee2-LcHgd43zr5\" -O cls_yoga82_trained.zip && rm -rf /tmp/cookies.txt"
      ],
      "execution_count": null,
      "outputs": [
        {
          "output_type": "stream",
          "text": [
            "--2020-07-05 07:54:16--  https://docs.google.com/uc?export=download&id=1KL0wzmh8xAwhmBZf8Uee2-LcHgd43zr5\n",
            "Resolving docs.google.com (docs.google.com)... 108.177.111.100, 108.177.111.139, 108.177.111.101, ...\n",
            "Connecting to docs.google.com (docs.google.com)|108.177.111.100|:443... connected.\n",
            "HTTP request sent, awaiting response... 200 OK\n",
            "Length: unspecified [text/html]\n",
            "Saving to: ‘STDOUT’\n",
            "\n",
            "\r-                       [<=>                 ]       0  --.-KB/s               \r-                       [ <=>                ]   3.18K  --.-KB/s    in 0s      \n",
            "\n",
            "2020-07-05 07:54:16 (48.5 MB/s) - written to stdout [3258]\n",
            "\n",
            "--2020-07-05 07:54:16--  https://docs.google.com/uc?export=download&confirm=gE2i&id=1KL0wzmh8xAwhmBZf8Uee2-LcHgd43zr5\n",
            "Resolving docs.google.com (docs.google.com)... 108.177.111.100, 108.177.111.113, 108.177.111.139, ...\n",
            "Connecting to docs.google.com (docs.google.com)|108.177.111.100|:443... connected.\n",
            "HTTP request sent, awaiting response... 302 Moved Temporarily\n",
            "Location: https://doc-10-5k-docs.googleusercontent.com/docs/securesc/l0aohsi4dug8qa1iguf27q72b2eqv1cm/rulb7gf2ltnea3pn68he2etb1q1g0t66/1593935625000/13299624224939371348/14674260649351309635Z/1KL0wzmh8xAwhmBZf8Uee2-LcHgd43zr5?e=download [following]\n",
            "--2020-07-05 07:54:16--  https://doc-10-5k-docs.googleusercontent.com/docs/securesc/l0aohsi4dug8qa1iguf27q72b2eqv1cm/rulb7gf2ltnea3pn68he2etb1q1g0t66/1593935625000/13299624224939371348/14674260649351309635Z/1KL0wzmh8xAwhmBZf8Uee2-LcHgd43zr5?e=download\n",
            "Resolving doc-10-5k-docs.googleusercontent.com (doc-10-5k-docs.googleusercontent.com)... 74.125.129.132, 2607:f8b0:4001:c15::84\n",
            "Connecting to doc-10-5k-docs.googleusercontent.com (doc-10-5k-docs.googleusercontent.com)|74.125.129.132|:443... connected.\n",
            "HTTP request sent, awaiting response... 302 Found\n",
            "Location: https://docs.google.com/nonceSigner?nonce=eh4kcgj6o0j6a&continue=https://doc-10-5k-docs.googleusercontent.com/docs/securesc/l0aohsi4dug8qa1iguf27q72b2eqv1cm/rulb7gf2ltnea3pn68he2etb1q1g0t66/1593935625000/13299624224939371348/14674260649351309635Z/1KL0wzmh8xAwhmBZf8Uee2-LcHgd43zr5?e%3Ddownload&hash=4eh57dmiji3ioh20mrdlo450f1mqm317 [following]\n",
            "--2020-07-05 07:54:16--  https://docs.google.com/nonceSigner?nonce=eh4kcgj6o0j6a&continue=https://doc-10-5k-docs.googleusercontent.com/docs/securesc/l0aohsi4dug8qa1iguf27q72b2eqv1cm/rulb7gf2ltnea3pn68he2etb1q1g0t66/1593935625000/13299624224939371348/14674260649351309635Z/1KL0wzmh8xAwhmBZf8Uee2-LcHgd43zr5?e%3Ddownload&hash=4eh57dmiji3ioh20mrdlo450f1mqm317\n",
            "Connecting to docs.google.com (docs.google.com)|108.177.111.100|:443... connected.\n",
            "HTTP request sent, awaiting response... 302 Found\n",
            "Location: https://doc-10-5k-docs.googleusercontent.com/docs/securesc/l0aohsi4dug8qa1iguf27q72b2eqv1cm/rulb7gf2ltnea3pn68he2etb1q1g0t66/1593935625000/13299624224939371348/14674260649351309635Z/1KL0wzmh8xAwhmBZf8Uee2-LcHgd43zr5?e=download&nonce=eh4kcgj6o0j6a&user=14674260649351309635Z&hash=v330hhmc6tve9arao9eo39ahcusgc9bf [following]\n",
            "--2020-07-05 07:54:17--  https://doc-10-5k-docs.googleusercontent.com/docs/securesc/l0aohsi4dug8qa1iguf27q72b2eqv1cm/rulb7gf2ltnea3pn68he2etb1q1g0t66/1593935625000/13299624224939371348/14674260649351309635Z/1KL0wzmh8xAwhmBZf8Uee2-LcHgd43zr5?e=download&nonce=eh4kcgj6o0j6a&user=14674260649351309635Z&hash=v330hhmc6tve9arao9eo39ahcusgc9bf\n",
            "Connecting to doc-10-5k-docs.googleusercontent.com (doc-10-5k-docs.googleusercontent.com)|74.125.129.132|:443... connected.\n",
            "HTTP request sent, awaiting response... 200 OK\n",
            "Length: unspecified [application/zip]\n",
            "Saving to: ‘cls_yoga82_trained.zip’\n",
            "\n",
            "cls_yoga82_trained.     [         <=>        ] 210.51M   111MB/s    in 1.9s    \n",
            "\n",
            "2020-07-05 07:54:19 (111 MB/s) - ‘cls_yoga82_trained.zip’ saved [220733928]\n",
            "\n"
          ],
          "name": "stdout"
        }
      ]
    },
    {
      "cell_type": "code",
      "metadata": {
        "id": "fBQijkKx0W-8",
        "colab_type": "code",
        "colab": {}
      },
      "source": [
        "! unzip -qq cls_yoga82_trained.zip "
      ],
      "execution_count": null,
      "outputs": []
    },
    {
      "cell_type": "code",
      "metadata": {
        "id": "PWs_4r1_0W_A",
        "colab_type": "code",
        "colab": {}
      },
      "source": [
        ""
      ],
      "execution_count": null,
      "outputs": []
    },
    {
      "cell_type": "code",
      "metadata": {
        "id": "PG3x6HMQ0W_C",
        "colab_type": "code",
        "colab": {
          "base_uri": "https://localhost:8080/",
          "height": 35
        },
        "outputId": "711f35cf-b289-4f6b-f4c7-b7bbf349ed03"
      },
      "source": [
        "ls workspace/Project-Yoga-82"
      ],
      "execution_count": null,
      "outputs": [
        {
          "output_type": "stream",
          "text": [
            "\u001b[0m\u001b[01;34mPytorch-densenet161\u001b[0m/  \u001b[01;34mPytorch-densenet169\u001b[0m/  \u001b[01;34mPytorch-densenet201\u001b[0m/\n"
          ],
          "name": "stdout"
        }
      ]
    },
    {
      "cell_type": "code",
      "metadata": {
        "id": "q5hPB2q70W_E",
        "colab_type": "code",
        "colab": {}
      },
      "source": [
        ""
      ],
      "execution_count": null,
      "outputs": []
    },
    {
      "cell_type": "code",
      "metadata": {
        "id": "m5fLha3s0W_H",
        "colab_type": "code",
        "colab": {}
      },
      "source": [
        ""
      ],
      "execution_count": null,
      "outputs": []
    },
    {
      "cell_type": "code",
      "metadata": {
        "id": "JoGuqVZy0W_N",
        "colab_type": "code",
        "colab": {}
      },
      "source": [
        "# Pytorch project\n",
        "from pytorch_prototype import prototype"
      ],
      "execution_count": null,
      "outputs": []
    },
    {
      "cell_type": "code",
      "metadata": {
        "id": "Y1tvk6560W_R",
        "colab_type": "code",
        "colab": {}
      },
      "source": [
        ""
      ],
      "execution_count": null,
      "outputs": []
    },
    {
      "cell_type": "code",
      "metadata": {
        "id": "YLm8CRoH0W_U",
        "colab_type": "code",
        "colab": {
          "base_uri": "https://localhost:8080/",
          "height": 208
        },
        "outputId": "4d7fb101-b259-4ac5-d55b-9482aa8a1802"
      },
      "source": [
        "# Load project in inference mode\n",
        "\n",
        "gtf = prototype(verbose=1);\n",
        "gtf.Prototype(\"Project-Yoga-82\", \"Pytorch-densenet201\", eval_infer=True);\n",
        "\n",
        "#Other trained models - uncomment \n",
        "#gtf.Prototype(\"Project-Yoga-82\", \"Pytorch-densenet169\", eval_infer=True);\n",
        "#gtf.Prototype(\"Project-Yoga-82\", \"Pytorch-densenet161\", eval_infer=True);"
      ],
      "execution_count": null,
      "outputs": [
        {
          "output_type": "stream",
          "text": [
            "Pytorch Version: 1.5.1+cu101\n",
            "\n",
            "Model Details\n",
            "    Loading model - workspace/Project-Yoga-82/Pytorch-densenet201/output/models/final\n",
            "    Model loaded!\n",
            "\n",
            "Experiment Details\n",
            "    Project: Project-Yoga-82\n",
            "    Experiment: Pytorch-densenet201\n",
            "    Dir: /home/ubuntu/Desktop/yoga/workspace/Project-Yoga-82/Pytorch-densenet201/\n",
            "\n"
          ],
          "name": "stdout"
        }
      ]
    },
    {
      "cell_type": "code",
      "metadata": {
        "id": "ZaVNsmb50W_X",
        "colab_type": "code",
        "colab": {}
      },
      "source": [
        ""
      ],
      "execution_count": null,
      "outputs": []
    },
    {
      "cell_type": "code",
      "metadata": {
        "id": "dfFVjjeu0W_c",
        "colab_type": "code",
        "colab": {}
      },
      "source": [
        ""
      ],
      "execution_count": null,
      "outputs": []
    },
    {
      "cell_type": "code",
      "metadata": {
        "id": "hFS6ZmYs0W_g",
        "colab_type": "code",
        "colab": {
          "base_uri": "https://localhost:8080/",
          "height": 381
        },
        "outputId": "df6e4f39-6f54-4252-e3a9-ebf070d5d110"
      },
      "source": [
        "img_name = \"Test/Akarna_Dhanurasana/1.jpg\"\n",
        "img_resized = \"Test/Akarna_Dhanurasana/1_resized.jpg\"\n",
        "predictions = gtf.Infer(img_name=img_name);\n",
        "from IPython.display import Image\n",
        "img = cv2.imread(img_name, 1);\n",
        "img = cv2.resize(img, (640, 480))\n",
        "cv2.imwrite(img_resized, img)\n",
        "Image(filename=img_resized)"
      ],
      "execution_count": null,
      "outputs": [
        {
          "output_type": "error",
          "ename": "ConstraintError",
          "evalue": "ignored",
          "traceback": [
            "\u001b[0;31m---------------------------------------------------------------------------\u001b[0m",
            "\u001b[0;31mConstraintError\u001b[0m                           Traceback (most recent call last)",
            "\u001b[0;32m<ipython-input-45-54ed9703d7f2>\u001b[0m in \u001b[0;36m<module>\u001b[0;34m()\u001b[0m\n\u001b[1;32m      1\u001b[0m \u001b[0mimg_name\u001b[0m \u001b[0;34m=\u001b[0m \u001b[0;34m\"Test/Akarna_Dhanurasana/1.jpg\"\u001b[0m\u001b[0;34m\u001b[0m\u001b[0;34m\u001b[0m\u001b[0m\n\u001b[1;32m      2\u001b[0m \u001b[0mimg_resized\u001b[0m \u001b[0;34m=\u001b[0m \u001b[0;34m\"Test/Akarna_Dhanurasana/1_resized.jpg\"\u001b[0m\u001b[0;34m\u001b[0m\u001b[0;34m\u001b[0m\u001b[0m\n\u001b[0;32m----> 3\u001b[0;31m \u001b[0mpredictions\u001b[0m \u001b[0;34m=\u001b[0m \u001b[0mgtf\u001b[0m\u001b[0;34m.\u001b[0m\u001b[0mInfer\u001b[0m\u001b[0;34m(\u001b[0m\u001b[0mimg_name\u001b[0m\u001b[0;34m=\u001b[0m\u001b[0mimg_name\u001b[0m\u001b[0;34m)\u001b[0m\u001b[0;34m;\u001b[0m\u001b[0;34m\u001b[0m\u001b[0;34m\u001b[0m\u001b[0m\n\u001b[0m\u001b[1;32m      4\u001b[0m \u001b[0;32mfrom\u001b[0m \u001b[0mIPython\u001b[0m\u001b[0;34m.\u001b[0m\u001b[0mdisplay\u001b[0m \u001b[0;32mimport\u001b[0m \u001b[0mImage\u001b[0m\u001b[0;34m\u001b[0m\u001b[0;34m\u001b[0m\u001b[0m\n\u001b[1;32m      5\u001b[0m \u001b[0mimg\u001b[0m \u001b[0;34m=\u001b[0m \u001b[0mcv2\u001b[0m\u001b[0;34m.\u001b[0m\u001b[0mimread\u001b[0m\u001b[0;34m(\u001b[0m\u001b[0mimg_name\u001b[0m\u001b[0;34m,\u001b[0m \u001b[0;36m1\u001b[0m\u001b[0;34m)\u001b[0m\u001b[0;34m;\u001b[0m\u001b[0;34m\u001b[0m\u001b[0;34m\u001b[0m\u001b[0m\n",
            "\u001b[0;32m/content/monk_v1/monk/system/imports.py\u001b[0m in \u001b[0;36mdecorator_wrapper\u001b[0;34m(*function_args, **function_args_dicts)\u001b[0m\n\u001b[1;32m    480\u001b[0m                             \u001b[0mcheck_folder\u001b[0m\u001b[0;34m(\u001b[0m\u001b[0mactual_arg\u001b[0m\u001b[0;34m,\u001b[0m \u001b[0marg_constraint\u001b[0m\u001b[0;34m[\u001b[0m\u001b[0mi\u001b[0m\u001b[0;34m*\u001b[0m\u001b[0;36m2\u001b[0m\u001b[0;34m+\u001b[0m\u001b[0;36m1\u001b[0m\u001b[0;34m]\u001b[0m\u001b[0;34m,\u001b[0m \u001b[0mfunction_name\u001b[0m\u001b[0;34m,\u001b[0m \u001b[0marg_name\u001b[0m\u001b[0;34m=\u001b[0m\u001b[0mkeys\u001b[0m\u001b[0;34m[\u001b[0m\u001b[0mx\u001b[0m\u001b[0;34m]\u001b[0m\u001b[0;34m)\u001b[0m\u001b[0;34m;\u001b[0m\u001b[0;34m\u001b[0m\u001b[0;34m\u001b[0m\u001b[0m\n\u001b[1;32m    481\u001b[0m                         \u001b[0;32mif\u001b[0m\u001b[0;34m(\u001b[0m\u001b[0marg_constraint\u001b[0m\u001b[0;34m[\u001b[0m\u001b[0mi\u001b[0m\u001b[0;34m*\u001b[0m\u001b[0;36m2\u001b[0m\u001b[0;34m]\u001b[0m \u001b[0;34m==\u001b[0m \u001b[0;34m\"file\"\u001b[0m\u001b[0;34m)\u001b[0m\u001b[0;34m:\u001b[0m\u001b[0;34m\u001b[0m\u001b[0;34m\u001b[0m\u001b[0m\n\u001b[0;32m--> 482\u001b[0;31m                             \u001b[0mcheck_file\u001b[0m\u001b[0;34m(\u001b[0m\u001b[0mactual_arg\u001b[0m\u001b[0;34m,\u001b[0m \u001b[0marg_constraint\u001b[0m\u001b[0;34m[\u001b[0m\u001b[0mi\u001b[0m\u001b[0;34m*\u001b[0m\u001b[0;36m2\u001b[0m\u001b[0;34m+\u001b[0m\u001b[0;36m1\u001b[0m\u001b[0;34m]\u001b[0m\u001b[0;34m,\u001b[0m \u001b[0mfunction_name\u001b[0m\u001b[0;34m,\u001b[0m \u001b[0marg_name\u001b[0m\u001b[0;34m=\u001b[0m\u001b[0mkeys\u001b[0m\u001b[0;34m[\u001b[0m\u001b[0mx\u001b[0m\u001b[0;34m]\u001b[0m\u001b[0;34m)\u001b[0m\u001b[0;34m;\u001b[0m\u001b[0;34m\u001b[0m\u001b[0;34m\u001b[0m\u001b[0m\n\u001b[0m\u001b[1;32m    483\u001b[0m                         \u001b[0;32mif\u001b[0m\u001b[0;34m(\u001b[0m\u001b[0marg_constraint\u001b[0m\u001b[0;34m[\u001b[0m\u001b[0mi\u001b[0m\u001b[0;34m*\u001b[0m\u001b[0;36m2\u001b[0m\u001b[0;34m]\u001b[0m \u001b[0;34m==\u001b[0m \u001b[0;34m\"inc\"\u001b[0m\u001b[0;34m)\u001b[0m\u001b[0;34m:\u001b[0m\u001b[0;34m\u001b[0m\u001b[0;34m\u001b[0m\u001b[0m\n\u001b[1;32m    484\u001b[0m                             \u001b[0mcheck_inc\u001b[0m\u001b[0;34m(\u001b[0m\u001b[0mactual_arg\u001b[0m\u001b[0;34m,\u001b[0m \u001b[0marg_constraint\u001b[0m\u001b[0;34m[\u001b[0m\u001b[0mi\u001b[0m\u001b[0;34m*\u001b[0m\u001b[0;36m2\u001b[0m\u001b[0;34m+\u001b[0m\u001b[0;36m1\u001b[0m\u001b[0;34m]\u001b[0m\u001b[0;34m,\u001b[0m \u001b[0mfunction_name\u001b[0m\u001b[0;34m,\u001b[0m \u001b[0marg_name\u001b[0m\u001b[0;34m=\u001b[0m\u001b[0mkeys\u001b[0m\u001b[0;34m[\u001b[0m\u001b[0mx\u001b[0m\u001b[0;34m]\u001b[0m\u001b[0;34m)\u001b[0m\u001b[0;34m;\u001b[0m\u001b[0;34m\u001b[0m\u001b[0;34m\u001b[0m\u001b[0m\n",
            "\u001b[0;32m/content/monk_v1/monk/system/imports.py\u001b[0m in \u001b[0;36mcheck_file\u001b[0;34m(actual_value, limit, function_name, arg_num, arg_name)\u001b[0m\n\u001b[1;32m    333\u001b[0m             \u001b[0;32mif\u001b[0m\u001b[0;34m(\u001b[0m\u001b[0;32mnot\u001b[0m \u001b[0mos\u001b[0m\u001b[0;34m.\u001b[0m\u001b[0mpath\u001b[0m\u001b[0;34m.\u001b[0m\u001b[0misfile\u001b[0m\u001b[0;34m(\u001b[0m\u001b[0mactual_value\u001b[0m\u001b[0;34m)\u001b[0m\u001b[0;34m)\u001b[0m\u001b[0;34m:\u001b[0m\u001b[0;34m\u001b[0m\u001b[0;34m\u001b[0m\u001b[0m\n\u001b[1;32m    334\u001b[0m                 \u001b[0mmsg\u001b[0m \u001b[0;34m=\u001b[0m \u001b[0;34m\"File \\\"{}\\\" not found\"\u001b[0m\u001b[0;34m.\u001b[0m\u001b[0mformat\u001b[0m\u001b[0;34m(\u001b[0m\u001b[0mactual_value\u001b[0m\u001b[0;34m)\u001b[0m\u001b[0;34m\u001b[0m\u001b[0;34m\u001b[0m\u001b[0m\n\u001b[0;32m--> 335\u001b[0;31m                 \u001b[0;32mraise\u001b[0m \u001b[0mConstraintError\u001b[0m\u001b[0;34m(\u001b[0m\u001b[0mmsg\u001b[0m\u001b[0;34m)\u001b[0m\u001b[0;34m;\u001b[0m\u001b[0;34m\u001b[0m\u001b[0;34m\u001b[0m\u001b[0m\n\u001b[0m\u001b[1;32m    336\u001b[0m \u001b[0;34m\u001b[0m\u001b[0m\n\u001b[1;32m    337\u001b[0m             \u001b[0;32mif\u001b[0m\u001b[0;34m(\u001b[0m\u001b[0mlimit\u001b[0m \u001b[0;34m==\u001b[0m \u001b[0;34m\"r\"\u001b[0m\u001b[0;34m)\u001b[0m\u001b[0;34m:\u001b[0m\u001b[0;34m\u001b[0m\u001b[0;34m\u001b[0m\u001b[0m\n",
            "\u001b[0;31mConstraintError\u001b[0m: File \"Test/Akarna_Dhanurasana/1.jpg\" not found"
          ]
        }
      ]
    },
    {
      "cell_type": "code",
      "metadata": {
        "id": "7TERBXZf0W_k",
        "colab_type": "code",
        "colab": {}
      },
      "source": [
        ""
      ],
      "execution_count": null,
      "outputs": []
    },
    {
      "cell_type": "code",
      "metadata": {
        "id": "W7DUGYAe0W_n",
        "colab_type": "code",
        "colab": {}
      },
      "source": [
        "img_name = \"Test/Boat_Pose_or_Paripurna_Navasana_/248.jpg\"\n",
        "img_resized = \"Test/Boat_Pose_or_Paripurna_Navasana_/248_resized.jpg\"\n",
        "predictions = gtf.Infer(img_name=img_name);\n",
        "from IPython.display import Image\n",
        "img = cv2.imread(img_name, 1);\n",
        "img = cv2.resize(img, (640, 480))\n",
        "cv2.imwrite(img_resized, img)\n",
        "Image(filename=img_resized)"
      ],
      "execution_count": null,
      "outputs": []
    },
    {
      "cell_type": "code",
      "metadata": {
        "id": "tBvXNZAq0W_w",
        "colab_type": "code",
        "colab": {}
      },
      "source": [
        ""
      ],
      "execution_count": null,
      "outputs": []
    },
    {
      "cell_type": "code",
      "metadata": {
        "id": "G64pqmBc0W_y",
        "colab_type": "code",
        "colab": {}
      },
      "source": [
        "img_name = \"Test/Corpse_Pose_or_Savasana_/231.jpg\"\n",
        "img_resized = \"Test/Corpse_Pose_or_Savasana_/231_resized.jpg\"\n",
        "predictions = gtf.Infer(img_name=img_name);\n",
        "from IPython.display import Image\n",
        "img = cv2.imread(img_name, 1);\n",
        "img = cv2.resize(img, (640, 480))\n",
        "cv2.imwrite(img_resized, img)\n",
        "Image(filename=img_resized)"
      ],
      "execution_count": null,
      "outputs": []
    },
    {
      "cell_type": "code",
      "metadata": {
        "id": "PMTs_2ZG0W_0",
        "colab_type": "code",
        "colab": {}
      },
      "source": [
        ""
      ],
      "execution_count": null,
      "outputs": []
    },
    {
      "cell_type": "code",
      "metadata": {
        "id": "Vb-Tc5lW0W_4",
        "colab_type": "code",
        "colab": {}
      },
      "source": [
        "img_name = \"Test/Dolphin_Pose_or_Ardha_Pincha_Mayurasana_/340.jpg\"\n",
        "img_resized = \"Test/Dolphin_Pose_or_Ardha_Pincha_Mayurasana_/340_resized.jpg\"\n",
        "predictions = gtf.Infer(img_name=img_name);\n",
        "from IPython.display import Image\n",
        "img = cv2.imread(img_name, 1);\n",
        "img = cv2.resize(img, (640, 480))\n",
        "cv2.imwrite(img_resized, img)\n",
        "Image(filename=img_resized)"
      ],
      "execution_count": null,
      "outputs": []
    },
    {
      "cell_type": "code",
      "metadata": {
        "id": "kjoyCqnc0W__",
        "colab_type": "code",
        "colab": {}
      },
      "source": [
        ""
      ],
      "execution_count": null,
      "outputs": []
    },
    {
      "cell_type": "code",
      "metadata": {
        "id": "7hde5FJq0XAC",
        "colab_type": "code",
        "colab": {}
      },
      "source": [
        "img_name = \"Test/Plank_Pose_or_Kumbhakasana_/28.jpg\"\n",
        "img_resized = \"Test/Plank_Pose_or_Kumbhakasana_/28_resized.jpg\"\n",
        "predictions = gtf.Infer(img_name=img_name);\n",
        "from IPython.display import Image\n",
        "img = cv2.imread(img_name, 1);\n",
        "img = cv2.resize(img, (640, 480))\n",
        "cv2.imwrite(img_resized, img)\n",
        "Image(filename=img_resized)"
      ],
      "execution_count": null,
      "outputs": []
    },
    {
      "cell_type": "code",
      "metadata": {
        "id": "eqc93jo50XAG",
        "colab_type": "code",
        "colab": {}
      },
      "source": [
        ""
      ],
      "execution_count": null,
      "outputs": []
    },
    {
      "cell_type": "code",
      "metadata": {
        "id": "Vz-2j6G30XAK",
        "colab_type": "code",
        "colab": {}
      },
      "source": [
        "img_name = \"Test/Reclining_Hand-to-Big-Toe_Pose_or_Supta_Padangusthasana_/507.jpg\"\n",
        "img_resized = \"Test/Reclining_Hand-to-Big-Toe_Pose_or_Supta_Padangusthasana_/507_resized.jpg\"\n",
        "predictions = gtf.Infer(img_name=img_name);\n",
        "from IPython.display import Image\n",
        "img = cv2.imread(img_name, 1);\n",
        "img = cv2.resize(img, (640, 480))\n",
        "cv2.imwrite(img_resized, img)\n",
        "Image(filename=img_resized)"
      ],
      "execution_count": null,
      "outputs": []
    },
    {
      "cell_type": "code",
      "metadata": {
        "id": "z3v0du8G0XAQ",
        "colab_type": "code",
        "colab": {}
      },
      "source": [
        ""
      ],
      "execution_count": null,
      "outputs": []
    },
    {
      "cell_type": "code",
      "metadata": {
        "id": "XaaLUBgk0XAT",
        "colab_type": "code",
        "colab": {}
      },
      "source": [
        "img_name = \"Test/Seated_Forward_Bend_pose_or_Paschimottanasana_/109.jpg\"\n",
        "img_resized = \"Test/Seated_Forward_Bend_pose_or_Paschimottanasana_/109_resized.jpg\"\n",
        "predictions = gtf.Infer(img_name=img_name);\n",
        "from IPython.display import Image\n",
        "img = cv2.imread(img_name, 1);\n",
        "img = cv2.resize(img, (640, 480))\n",
        "cv2.imwrite(img_resized, img)\n",
        "Image(filename=img_resized)"
      ],
      "execution_count": null,
      "outputs": []
    },
    {
      "cell_type": "code",
      "metadata": {
        "id": "QG5pxf9h0XAW",
        "colab_type": "code",
        "colab": {}
      },
      "source": [
        ""
      ],
      "execution_count": null,
      "outputs": []
    },
    {
      "cell_type": "code",
      "metadata": {
        "id": "W1tM1rBx0XAY",
        "colab_type": "code",
        "colab": {}
      },
      "source": [
        "img_name = \"Test/Side_Plank_Pose_or_Vasisthasana_/4.jpg\"\n",
        "img_resized = \"Test/Side_Plank_Pose_or_Vasisthasana_/4_resized.jpg\"\n",
        "predictions = gtf.Infer(img_name=img_name);\n",
        "from IPython.display import Image\n",
        "img = cv2.imread(img_name, 1);\n",
        "img = cv2.resize(img, (640, 480))\n",
        "cv2.imwrite(img_resized, img)\n",
        "Image(filename=img_resized)"
      ],
      "execution_count": null,
      "outputs": []
    },
    {
      "cell_type": "code",
      "metadata": {
        "id": "9APi-5_I0XAa",
        "colab_type": "code",
        "colab": {}
      },
      "source": [
        ""
      ],
      "execution_count": null,
      "outputs": []
    },
    {
      "cell_type": "code",
      "metadata": {
        "id": "pyRZGfcL0XAe",
        "colab_type": "code",
        "colab": {}
      },
      "source": [
        "img_name = \"Test/Supported_Headstand_pose_or_Salamba_Sirsasana_/336.jpg\"\n",
        "img_resized = \"Test/Supported_Headstand_pose_or_Salamba_Sirsasana_/336_resized.jpg\"\n",
        "predictions = gtf.Infer(img_name=img_name);\n",
        "from IPython.display import Image\n",
        "img = cv2.imread(img_name, 1);\n",
        "img = cv2.resize(img, (640, 480))\n",
        "cv2.imwrite(img_resized, img)\n",
        "Image(filename=img_resized)"
      ],
      "execution_count": null,
      "outputs": []
    },
    {
      "cell_type": "code",
      "metadata": {
        "id": "cOODNFEK0XAg",
        "colab_type": "code",
        "colab": {}
      },
      "source": [
        ""
      ],
      "execution_count": null,
      "outputs": []
    },
    {
      "cell_type": "code",
      "metadata": {
        "id": "S2TucuwW0XAh",
        "colab_type": "code",
        "colab": {}
      },
      "source": [
        "img_name = \"Test/Rajakapotasana/81.jpg\"\n",
        "img_resized = \"Test/Rajakapotasana/81_resized.jpg\"\n",
        "predictions = gtf.Infer(img_name=img_name);\n",
        "from IPython.display import Image\n",
        "img = cv2.imread(img_name, 1);\n",
        "img = cv2.resize(img, (640, 480))\n",
        "cv2.imwrite(img_resized, img)\n",
        "Image(filename=img_resized)"
      ],
      "execution_count": null,
      "outputs": []
    },
    {
      "cell_type": "code",
      "metadata": {
        "id": "JoLJdnqs0XAj",
        "colab_type": "code",
        "colab": {}
      },
      "source": [
        ""
      ],
      "execution_count": null,
      "outputs": []
    },
    {
      "cell_type": "code",
      "metadata": {
        "id": "Ae7pxXm10XAk",
        "colab_type": "code",
        "colab": {}
      },
      "source": [
        "img_name = \"Test/Head-to-Knee_Forward_Bend_pose_or_Janu_Sirsasana_/1_65.jpg\"\n",
        "img_resized = \"Test/Head-to-Knee_Forward_Bend_pose_or_Janu_Sirsasana_/1_65.jpg\"\n",
        "predictions = gtf.Infer(img_name=img_name);\n",
        "from IPython.display import Image\n",
        "img = cv2.imread(img_name, 1);\n",
        "img = cv2.resize(img, (640, 480))\n",
        "cv2.imwrite(img_resized, img)\n",
        "Image(filename=img_resized)"
      ],
      "execution_count": null,
      "outputs": []
    },
    {
      "cell_type": "code",
      "metadata": {
        "id": "o9-0L7ZY0XAl",
        "colab_type": "code",
        "colab": {}
      },
      "source": [
        ""
      ],
      "execution_count": null,
      "outputs": []
    },
    {
      "cell_type": "code",
      "metadata": {
        "id": "9F9obEt80XAo",
        "colab_type": "code",
        "colab": {}
      },
      "source": [
        ""
      ],
      "execution_count": null,
      "outputs": []
    },
    {
      "cell_type": "markdown",
      "metadata": {
        "id": "Mk_E2Pdk0XAp",
        "colab_type": "text"
      },
      "source": [
        "# Training"
      ]
    },
    {
      "cell_type": "code",
      "metadata": {
        "id": "O8m27FU80XAp",
        "colab_type": "code",
        "colab": {}
      },
      "source": [
        ""
      ],
      "execution_count": null,
      "outputs": []
    },
    {
      "cell_type": "code",
      "metadata": {
        "id": "50UMVKx60XAt",
        "colab_type": "code",
        "colab": {}
      },
      "source": [
        "# Monk\n",
        "import os\n",
        "import sys\n",
        "sys.path.append(\"monk_v1/monk/\");"
      ],
      "execution_count": null,
      "outputs": []
    },
    {
      "cell_type": "code",
      "metadata": {
        "id": "M-FSISOv0XAw",
        "colab_type": "code",
        "colab": {}
      },
      "source": [
        ""
      ],
      "execution_count": null,
      "outputs": []
    },
    {
      "cell_type": "code",
      "metadata": {
        "id": "dxxxvEEJ0XAy",
        "colab_type": "code",
        "colab": {}
      },
      "source": [
        "# For mxnet-gluon backend \n",
        "#from gluon_prototype import prototype\n",
        "\n",
        "# For pytorch backend\n",
        "from pytorch_prototype import prototype\n",
        "\n",
        "# For Keras backend\n",
        "#from keras_prototype import prototype"
      ],
      "execution_count": null,
      "outputs": []
    },
    {
      "cell_type": "code",
      "metadata": {
        "id": "GVbvC-CN0XA0",
        "colab_type": "code",
        "colab": {}
      },
      "source": [
        ""
      ],
      "execution_count": null,
      "outputs": []
    },
    {
      "cell_type": "code",
      "metadata": {
        "id": "PJ8GCuY20XA1",
        "colab_type": "code",
        "colab": {}
      },
      "source": [
        "# Create Project and Experiment\n",
        "\n",
        "gtf = prototype(verbose=1);\n",
        "gtf.Prototype(\"Project-Yoga-82\", \"Pytorch-resnet18\");"
      ],
      "execution_count": null,
      "outputs": []
    },
    {
      "cell_type": "code",
      "metadata": {
        "id": "50U2RJ_R0XA2",
        "colab_type": "code",
        "colab": {}
      },
      "source": [
        ""
      ],
      "execution_count": null,
      "outputs": []
    },
    {
      "cell_type": "code",
      "metadata": {
        "id": "-Tov5H6z0XA5",
        "colab_type": "code",
        "colab": {}
      },
      "source": [
        "gtf.Default(dataset_path=[\"Images\", \"Test\"],\n",
        "            model_name=\"resnet18\", \n",
        "            freeze_base_network=True,\n",
        "            num_epochs=10);"
      ],
      "execution_count": null,
      "outputs": []
    },
    {
      "cell_type": "code",
      "metadata": {
        "id": "3WIlNur00XA7",
        "colab_type": "code",
        "colab": {}
      },
      "source": [
        ""
      ],
      "execution_count": null,
      "outputs": []
    },
    {
      "cell_type": "code",
      "metadata": {
        "id": "d42SjA-D0XBC",
        "colab_type": "code",
        "colab": {}
      },
      "source": [
        ""
      ],
      "execution_count": null,
      "outputs": []
    },
    {
      "cell_type": "code",
      "metadata": {
        "id": "hXZLko2A0XBD",
        "colab_type": "code",
        "colab": {}
      },
      "source": [
        ""
      ],
      "execution_count": null,
      "outputs": []
    },
    {
      "cell_type": "code",
      "metadata": {
        "id": "46TpyE870XBF",
        "colab_type": "code",
        "colab": {}
      },
      "source": [
        "#Start Training\n",
        "gtf.Train();\n",
        "\n",
        "#Read the training summary generated once you run the cell and training is completed"
      ],
      "execution_count": null,
      "outputs": []
    },
    {
      "cell_type": "code",
      "metadata": {
        "id": "CPlB7q0f0XBG",
        "colab_type": "code",
        "colab": {}
      },
      "source": [
        ""
      ],
      "execution_count": null,
      "outputs": []
    },
    {
      "cell_type": "markdown",
      "metadata": {
        "id": "q92vngXX0XBI",
        "colab_type": "text"
      },
      "source": [
        "## Validation set accuracy was - 0.532\n",
        "\n",
        "    Note: You may get a different result"
      ]
    },
    {
      "cell_type": "code",
      "metadata": {
        "id": "kCrdnPa20XBI",
        "colab_type": "code",
        "colab": {}
      },
      "source": [
        ""
      ],
      "execution_count": null,
      "outputs": []
    },
    {
      "cell_type": "markdown",
      "metadata": {
        "id": "1_ISE1gA0XBL",
        "colab_type": "text"
      },
      "source": [
        "# Hyperparameter tuning"
      ]
    },
    {
      "cell_type": "code",
      "metadata": {
        "id": "ck9UBGYJ0XBL",
        "colab_type": "code",
        "colab": {}
      },
      "source": [
        ""
      ],
      "execution_count": null,
      "outputs": []
    },
    {
      "cell_type": "code",
      "metadata": {
        "id": "uuUbGPML0XBM",
        "colab_type": "code",
        "colab": {}
      },
      "source": [
        "# Analysis Project Name\n",
        "analysis_name = \"analyse_models\";\n",
        "\n",
        "# Models to analyse\n",
        "# First element in the list- Model Name\n",
        "# Second element in the list - Boolean value to freeze base network or not\n",
        "# Third element in the list - Boolean value to use pretrained model as the starting point or not\n",
        "models = [[\"resnet18\", True, True], [\"resnet34\", False, True], [\"resnet50\", False, True],\n",
        "         [\"resnet50\", False, False], [\"resnet101\", False, True]];  \n",
        "\n",
        "# Num epochs for each experiment to run\t\n",
        "epochs=10;\n",
        "\n",
        "# Percentage of original dataset to take in for experimentation\n",
        "percent_data=10;\n",
        "\n",
        "# \"keep_all\" - Keep all the sub experiments created\n",
        "# \"keep_non\" - Delete all sub experiments created\n",
        "analysis = gtf.Analyse_Models(analysis_name, models, percent_data, num_epochs=epochs, state=\"keep_none\"); "
      ],
      "execution_count": null,
      "outputs": []
    },
    {
      "cell_type": "code",
      "metadata": {
        "id": "Gwqhr_Nt0XBQ",
        "colab_type": "code",
        "colab": {}
      },
      "source": [
        "#As per results set the apropriate model\n",
        "gtf.update_model_name(\"resnet50\");\n",
        "gtf.update_freeze_base_network(False);\n",
        "gtf.update_use_pretrained(True);\n",
        "\n",
        "#Very Important to reload experiment to make the changes\n",
        "gtf.Reload();"
      ],
      "execution_count": null,
      "outputs": []
    },
    {
      "cell_type": "code",
      "metadata": {
        "id": "4v_C2-2M0XBS",
        "colab_type": "code",
        "colab": {}
      },
      "source": [
        ""
      ],
      "execution_count": null,
      "outputs": []
    },
    {
      "cell_type": "code",
      "metadata": {
        "id": "WD8NcEXS0XBU",
        "colab_type": "code",
        "colab": {}
      },
      "source": [
        ""
      ],
      "execution_count": null,
      "outputs": []
    },
    {
      "cell_type": "code",
      "metadata": {
        "id": "8D9oY5PW0XBW",
        "colab_type": "code",
        "colab": {}
      },
      "source": [
        ""
      ],
      "execution_count": null,
      "outputs": []
    },
    {
      "cell_type": "code",
      "metadata": {
        "id": "_ixs6ImG0XBX",
        "colab_type": "code",
        "colab": {}
      },
      "source": [
        "analysis_name = \"analyse_input_sizes\";\n",
        "\n",
        "# Input sizes to explore\t\n",
        "input_sizes = [128, 256, 512];\n",
        "\n",
        "# Num epochs for each experiment to run\t\n",
        "epochs=10;\n",
        "\n",
        "# Percentage of original dataset to take in for experimentation\n",
        "percent_data=10;\n",
        "\n",
        "# \"keep_all\" - Keep all the sub experiments created\n",
        "# \"keep_non\" - Delete all sub experiments created\t\n",
        "analysis = gtf.Analyse_Input_Sizes(analysis_name, input_sizes, \n",
        "                                   percent_data, num_epochs=epochs, state=\"keep_none\"); "
      ],
      "execution_count": null,
      "outputs": []
    },
    {
      "cell_type": "code",
      "metadata": {
        "id": "F980cu8g0XBY",
        "colab_type": "code",
        "colab": {}
      },
      "source": [
        "#As per results set the apropriate input size\n",
        "gtf.update_input_size(512);\n",
        "\n",
        "#Very Important to reload experiment to make the changes\n",
        "gtf.Reload();"
      ],
      "execution_count": null,
      "outputs": []
    },
    {
      "cell_type": "code",
      "metadata": {
        "id": "S8Qj5WyJ0XBa",
        "colab_type": "code",
        "colab": {}
      },
      "source": [
        ""
      ],
      "execution_count": null,
      "outputs": []
    },
    {
      "cell_type": "code",
      "metadata": {
        "id": "R68wdjnd0XBb",
        "colab_type": "code",
        "colab": {}
      },
      "source": [
        ""
      ],
      "execution_count": null,
      "outputs": []
    },
    {
      "cell_type": "code",
      "metadata": {
        "id": "G64kNYKB0XBc",
        "colab_type": "code",
        "colab": {}
      },
      "source": [
        ""
      ],
      "execution_count": null,
      "outputs": []
    },
    {
      "cell_type": "code",
      "metadata": {
        "id": "xmcG4Eta0XBd",
        "colab_type": "code",
        "colab": {}
      },
      "source": [
        "# Analysis Project Name\n",
        "analysis_name = \"analyse_batch_sizes\";\n",
        "\n",
        "# Batch sizes to explore\n",
        "batch_sizes = [4, 8, 16, 32];\n",
        "\n",
        "# Num epochs for each experiment to run\t\n",
        "epochs = 5;\n",
        "\n",
        "# Percentage of original dataset to take in for experimentation\n",
        "percent_data = 20;\n",
        "\n",
        "# \"keep_all\" - Keep all the sub experiments created\n",
        "# \"keep_non\" - Delete all sub experiments created\t\n",
        "analysis = gtf.Analyse_Batch_Sizes(analysis_name, batch_sizes, \n",
        "                                   percent_data, num_epochs=epochs, state=\"keep_none\"); "
      ],
      "execution_count": null,
      "outputs": []
    },
    {
      "cell_type": "code",
      "metadata": {
        "id": "o0nRzZlp0XBf",
        "colab_type": "code",
        "colab": {}
      },
      "source": [
        "#As per results set the apropriate batch size\n",
        "gtf.update_batch_size(32);\n",
        "\n",
        "#Very Important to reload experiment to make the changes\n",
        "gtf.Reload();"
      ],
      "execution_count": null,
      "outputs": []
    },
    {
      "cell_type": "code",
      "metadata": {
        "id": "SY_4FRRv0XBg",
        "colab_type": "code",
        "colab": {}
      },
      "source": [
        ""
      ],
      "execution_count": null,
      "outputs": []
    },
    {
      "cell_type": "code",
      "metadata": {
        "id": "z0mLyCHZ0XBk",
        "colab_type": "code",
        "colab": {}
      },
      "source": [
        ""
      ],
      "execution_count": null,
      "outputs": []
    },
    {
      "cell_type": "code",
      "metadata": {
        "id": "Z0bWSAUC0XBm",
        "colab_type": "code",
        "colab": {}
      },
      "source": [
        ""
      ],
      "execution_count": null,
      "outputs": []
    },
    {
      "cell_type": "code",
      "metadata": {
        "id": "QMEKa4xG0XBn",
        "colab_type": "code",
        "colab": {}
      },
      "source": [
        "# Analysis Project Name\n",
        "analysis_name = \"analyse_optimizers_with_lr\";\n",
        "\n",
        "# Optimizers to explore\n",
        "optimizers_lrs = [[\"sgd\", 0.001], \n",
        "                  [\"sgd\", 0.01], \n",
        "                  [\"adam\", 0.001], \n",
        "                  [\"adam\", 0.01], \n",
        "                  [\"adagrad\", 0.001], \n",
        "                  [\"adagrad\", 0.01], \n",
        "                  [\"adadelta\", 0.001],\n",
        "                  [\"adagrad\", 0.01]];   #Model name, learning rate\n",
        "\n",
        "# Num epochs for each experiment to run\t\n",
        "epochs = 10;\n",
        "\n",
        "# Percentage of original dataset to take in for experimentation\n",
        "percent_data = 10;\n",
        "\n",
        "# \"keep_all\" - Keep all the sub experiments created\n",
        "# \"keep_non\" - Delete all sub experiments created\n",
        "analysis = gtf.Analyse_Optimizers_With_LR(analysis_name, \n",
        "                                          optimizers_lrs, percent_data, num_epochs=epochs, state=\"keep_none\"); \n",
        "\n",
        "\n"
      ],
      "execution_count": null,
      "outputs": []
    },
    {
      "cell_type": "code",
      "metadata": {
        "id": "YiP1ZZBM0XBp",
        "colab_type": "code",
        "colab": {}
      },
      "source": [
        "#As per results set the appropriate \n",
        "gtf.optimizer_sgd(0.001);\n",
        "\n",
        "#Very Important to reload experiment to make the changes\n",
        "gtf.Reload();"
      ],
      "execution_count": null,
      "outputs": []
    },
    {
      "cell_type": "code",
      "metadata": {
        "id": "58PdCZ3V0XBq",
        "colab_type": "code",
        "colab": {}
      },
      "source": [
        ""
      ],
      "execution_count": null,
      "outputs": []
    },
    {
      "cell_type": "code",
      "metadata": {
        "id": "E63T77_r0XBs",
        "colab_type": "code",
        "colab": {}
      },
      "source": [
        ""
      ],
      "execution_count": null,
      "outputs": []
    },
    {
      "cell_type": "code",
      "metadata": {
        "id": "j2abndju0XBt",
        "colab_type": "code",
        "colab": {}
      },
      "source": [
        "## Retrain"
      ],
      "execution_count": null,
      "outputs": []
    },
    {
      "cell_type": "code",
      "metadata": {
        "id": "fIz4a9gG0XBv",
        "colab_type": "code",
        "colab": {}
      },
      "source": [
        "ptf.Train();"
      ],
      "execution_count": null,
      "outputs": []
    },
    {
      "cell_type": "code",
      "metadata": {
        "id": "KJvYKbUr0XBw",
        "colab_type": "code",
        "colab": {}
      },
      "source": [
        ""
      ],
      "execution_count": null,
      "outputs": []
    },
    {
      "cell_type": "markdown",
      "metadata": {
        "id": "0Sl_LQJN0XBy",
        "colab_type": "text"
      },
      "source": [
        "## New validation accuracy - 0.78"
      ]
    },
    {
      "cell_type": "code",
      "metadata": {
        "id": "9y3fEyiz0XBy",
        "colab_type": "code",
        "colab": {}
      },
      "source": [
        ""
      ],
      "execution_count": null,
      "outputs": []
    },
    {
      "cell_type": "code",
      "metadata": {
        "id": "zmD9h7Jd0XB2",
        "colab_type": "code",
        "colab": {}
      },
      "source": [
        ""
      ],
      "execution_count": null,
      "outputs": []
    },
    {
      "cell_type": "markdown",
      "metadata": {
        "id": "VC3MlW2p0XB4",
        "colab_type": "text"
      },
      "source": [
        "# Infer on a an Image"
      ]
    },
    {
      "cell_type": "code",
      "metadata": {
        "id": "-rm1AXB20XB4",
        "colab_type": "code",
        "colab": {}
      },
      "source": [
        ""
      ],
      "execution_count": null,
      "outputs": []
    },
    {
      "cell_type": "code",
      "metadata": {
        "id": "ycQ2ezPo0XB7",
        "colab_type": "code",
        "colab": {}
      },
      "source": [
        "# Import monk\n",
        "\n",
        "import os\n",
        "import sys\n",
        "sys.path.append(\"monk_v1/monk/\");"
      ],
      "execution_count": null,
      "outputs": []
    },
    {
      "cell_type": "code",
      "metadata": {
        "id": "MIInqwka0XB8",
        "colab_type": "code",
        "colab": {}
      },
      "source": [
        ""
      ],
      "execution_count": null,
      "outputs": []
    },
    {
      "cell_type": "code",
      "metadata": {
        "id": "8Kby1NnY0XB_",
        "colab_type": "code",
        "colab": {}
      },
      "source": [
        "# For mxnet-gluon backend \n",
        "#from gluon_prototype import prototype\n",
        "\n",
        "# For pytorch backend\n",
        "from pytorch_prototype import prototype\n",
        "\n",
        "# For Keras backend\n",
        "#from keras_prototype import prototype"
      ],
      "execution_count": null,
      "outputs": []
    },
    {
      "cell_type": "code",
      "metadata": {
        "id": "igcV2KPO0XCC",
        "colab_type": "code",
        "colab": {}
      },
      "source": [
        ""
      ],
      "execution_count": null,
      "outputs": []
    },
    {
      "cell_type": "code",
      "metadata": {
        "id": "hIl-cV1J0XCF",
        "colab_type": "code",
        "colab": {}
      },
      "source": [
        "# Load Project and Experiment\n",
        "\n",
        "gtf = prototype(verbose=1);\n",
        "gtf.Prototype(\"Project-Yoga-82\", \"Pytorch-resnet50\", eval_infer=True);"
      ],
      "execution_count": null,
      "outputs": []
    },
    {
      "cell_type": "code",
      "metadata": {
        "id": "IkSH98tP0XCG",
        "colab_type": "code",
        "colab": {}
      },
      "source": [
        ""
      ],
      "execution_count": null,
      "outputs": []
    },
    {
      "cell_type": "code",
      "metadata": {
        "id": "cXh9aj1N0XCH",
        "colab_type": "code",
        "colab": {}
      },
      "source": [
        ""
      ],
      "execution_count": null,
      "outputs": []
    },
    {
      "cell_type": "code",
      "metadata": {
        "id": "DzbkJuvR0XCI",
        "colab_type": "code",
        "colab": {}
      },
      "source": [
        "img_name = \"Test/Akarna_Dhanurasana/1.jpg\"\n",
        "predictions = gtf.Infer(img_name=img_name);\n",
        "from IPython.display import Image\n",
        "Image(filename=img_name)"
      ],
      "execution_count": null,
      "outputs": []
    },
    {
      "cell_type": "code",
      "metadata": {
        "id": "B9_wJnGv0XCJ",
        "colab_type": "code",
        "colab": {}
      },
      "source": [
        ""
      ],
      "execution_count": null,
      "outputs": []
    },
    {
      "cell_type": "code",
      "metadata": {
        "id": "ecJXl7f20XCK",
        "colab_type": "code",
        "colab": {}
      },
      "source": [
        ""
      ],
      "execution_count": null,
      "outputs": []
    },
    {
      "cell_type": "code",
      "metadata": {
        "id": "vTj0pmCl0XCL",
        "colab_type": "code",
        "colab": {}
      },
      "source": [
        ""
      ],
      "execution_count": null,
      "outputs": []
    },
    {
      "cell_type": "code",
      "metadata": {
        "id": "RzfD3vg40XCM",
        "colab_type": "code",
        "colab": {}
      },
      "source": [
        ""
      ],
      "execution_count": null,
      "outputs": []
    },
    {
      "cell_type": "code",
      "metadata": {
        "id": "CC_jTBSe0XCN",
        "colab_type": "code",
        "colab": {}
      },
      "source": [
        ""
      ],
      "execution_count": null,
      "outputs": []
    },
    {
      "cell_type": "code",
      "metadata": {
        "id": "lMfqx5xu0XCO",
        "colab_type": "code",
        "colab": {}
      },
      "source": [
        ""
      ],
      "execution_count": null,
      "outputs": []
    },
    {
      "cell_type": "code",
      "metadata": {
        "id": "E_Fe8FKI0XCP",
        "colab_type": "code",
        "colab": {}
      },
      "source": [
        ""
      ],
      "execution_count": null,
      "outputs": []
    }
  ]
}